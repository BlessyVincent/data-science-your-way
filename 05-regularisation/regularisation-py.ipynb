{
 "metadata": {
  "language_info": {
   "codemirror_mode": {
    "name": "ipython",
    "version": 3
   },
   "file_extension": ".py",
   "mimetype": "text/x-python",
   "name": "python",
   "nbconvert_exporter": "python",
   "pygments_lexer": "ipython3",
   "version": "3.8.3"
  },
  "orig_nbformat": 2,
  "kernelspec": {
   "name": "python383jvsc74a57bd0100b910e55866629a89cf7fde535a4247d4557bf876752a989cd535a3de09789",
   "display_name": "Python 3.8.3 64-bit ('anaconda3': virtualenv)"
  }
 },
 "nbformat": 4,
 "nbformat_minor": 2,
 "cells": [
  {
   "source": [
    "# Regularised linear models for regression"
   ],
   "cell_type": "markdown",
   "metadata": {}
  },
  {
   "source": [
    "## (Gaussian) Linear models for regression"
   ],
   "cell_type": "markdown",
   "metadata": {}
  },
  {
   "source": [
    "The goal of regression is to predict the value of one or more continuous *target* variables $y$ given the value of a $p$-dimensional vector $\\vec{x}$ of input variables [1]. \n",
    "\n",
    "$$\n",
    "x_1, x_2, \\dots, x_p \\rightarrow y\n",
    "$$\n",
    "\n",
    "The simplest linear regression models share the property of being linear functions of the input parameters. If we call that function $f$, a model prediction $\\hat{y}$ for a given value of the input vector $\\vec{x}$ is given by \n",
    "\n",
    "$$\n",
    "\\hat{y} = f(x_1, x_2, \\dots, x_p)\n",
    "$$\n",
    "\n",
    "The process of learning the function $f$ is what machine learning or statistical learning is about. We use a dataset D, made of $N$ labeled samples $(x_1, x_2, \\dots, x_p, y)$, to estimate the function $f$. We will get a bit deeper into this subject in the following sections, in the context of cost functions and regularisation. But in principle, for each data point, we have that \n",
    "\n",
    "\n",
    "$$\n",
    "y_i = f(\\vec{x}_i) + \\epsilon\n",
    "$$\n",
    "\n",
    "This is equivalent to say that for each sample, the target variable is given by a deterministic function (i.e. $f$) plus noise. Probably the most popular the most popular family of models comes from the assumption that the error $\\epsilon$ is normally distributed (i.e. Gaussian), which is not a bad assumption in most real world scenarios thanks to the central limit theorem. That is equivalent to say that the input vector and output variable together make a multi-variate normal distribution $(x_1, x_2, \\dots, x_p, y)$. If we take a probabilistic approach, we can describe each data point as:\n",
    "\n",
    "$$\n",
    "p(y_i | \\vec{x}_i) \\sim N(\\mu_i, \\sigma^2)\n",
    "$$\n",
    "\n",
    "that is, the target variable $y$ is normally distributed conditional to the values of $\\vec{x}$ where \n",
    "\n",
    "$$\n",
    "\\mu_i = \\beta_1 \\Phi_1(x_1) + \\dots + \\beta_r \\Phi_r(x_i)\n",
    "$$\n",
    "\n",
    "that is, we define the function $f$ (and the center of the distribution) in terms of a series of $r$ weights or coefficients $\\vec{\\beta}$ and selection functions $\\vec{\\Phi}$ that combine the values of the inputs to get the output. Finally, if we define for the whole dataset \n",
    "\n",
    "$$\n",
    "Y = \\begin{pmatrix}\n",
    "y_1 \\\\ \n",
    "y_2 \\\\ \n",
    "\\dots \\\\ \n",
    "y_N\n",
    "\\end{pmatrix}\n",
    "\n",
    "\\vec{\\beta} = \\begin{pmatrix}\n",
    "\\beta_1 \\\\ \n",
    "\\beta_2 \\\\ \n",
    "\\dots \\\\ \n",
    "\\beta_r\n",
    "\\end{pmatrix}\n",
    "\n",
    "X = \\begin{pmatrix}\n",
    "\\Phi_1(x_1) && \\Phi_2(x_1) && \\dots && \\Phi_r(x_1) \\\\ \n",
    "\\Phi_1(x_2) && \\Phi_2(x_2) && \\dots && \\Phi_r(x_2) \\\\ \n",
    "\\Phi_1(x_3) && \\Phi_2(x_3) && \\dots && \\Phi_r(x_3) \\\\ \n",
    "\\dots && \\dots && \\dots && \\dots \\\\\n",
    "\\Phi_1(x_N) && \\Phi_2(x_N) && \\dots && \\Phi_r(x_N) \\\\ \n",
    "\\end{pmatrix}\n",
    "$$ and \n",
    "\n",
    "we have that \n",
    "\n",
    "$$\n",
    "Y = X \\vec{\\beta} + \\epsilon\n",
    "$$\n",
    "\n",
    "or equivalently\n",
    "\n",
    "$$\n",
    "p(Y) \\sim N(X \\vec{\\beta}, \\sigma^2 I)\n",
    "$$\n",
    "\n",
    "The problem is then to estimate the coefficients vector $\\vec{\\beta}$. Two ways of estimate these values are *least squares estimation* and *maximum likelihood estimation*. Although the are equivalent for linear gaussian models, they do not have to be. We will focus on the first approach for the time being."
   ],
   "cell_type": "markdown",
   "metadata": {}
  },
  {
   "source": [
    "## Least Squares Estimation\n",
    "\n",
    "The LSE method uses a cost function $S$, the residual sum of squares, which we aim to minimise:\n",
    "\n",
    "$$\n",
    "S(\\vec{\\beta}) = \\sum_{i=1}^{N} (Y_i - \\sum_{k=1}^{r} \\beta_k \\Phi_k(x_i))^2 = (Y - X\\vec{\\beta})^T(Y-X \\vec{\\beta})\n",
    "$$\n",
    "\n",
    "We sum, over all $N$ samples in out dataset, the squared difference between the actual value $Y_i$ and the prediction. Hence, our task is to find the vector of weights that minimises the resodual sum of squares:\n",
    "\n",
    "$$\n",
    "\\vec{\\hat{\\beta}} = \\underset{\\vec{\\beta}}{argmin} (Y - X\\vec{\\beta})^T(Y-X \\vec{\\beta})\n",
    "$$"
   ],
   "cell_type": "markdown",
   "metadata": {}
  },
  {
   "source": [
    "## A regularised cost function"
   ],
   "cell_type": "markdown",
   "metadata": {}
  },
  {
   "source": [
    "One of the most important steps in the machine learning model is feature selection. During that step, we decide which elements of the input vector $\\vec{x}$ are important and will be used to predict the target variable $y$. Not all elements of $\\vec{x}$ are equally (or at all) important to predict the target variable. One principled and more continuous way of doing that is by penalising the cost function $C$ in a way that it keeps only the most important elements of $\\vec{x}$. This process is called *regularisation* or *shrinkage*.\n",
    "\n",
    "Remember that our task is to find the vector of weights that minimises the resodual sum of squares:\n",
    "\n",
    "$$\n",
    "\\vec{\\hat{\\beta}} = \\underset{\\vec{\\beta}}{argmin} (Y - X\\vec{\\beta})^T(Y-X \\vec{\\beta})\n",
    "$$\n",
    "\n",
    "we can add an new constraint to our minimisation task in the form of a limit to the $L_2$ norm of the weight vector, given by the scalar product $\\vec{\\beta}^T \\vec{\\beta}$:\n",
    "\n",
    "$$\n",
    "\\vec{\\hat{\\beta}} = \\underset{\\vec{\\beta}, \\vec{\\beta}^T \\vec{\\beta}}{argmin} (Y - X\\vec{\\beta})^T(Y-X \\vec{\\beta})\n",
    "$$\n",
    "\n",
    "that is, the new task is to find $\\vec{\\beta}$ that minimises the residual sum of squares subject to its $L_2$ also minimising it. To find the values of $\\vec{\\beta}$, we can put that into a *Lagrange multiplier* term:\n",
    "\n",
    "$$\n",
    "\\vec{\\hat{\\beta}} = \\underset{\\vec{\\beta}}{argmin} (Y - X\\vec{\\beta})^T(Y-X \\vec{\\beta}) + \\lambda \\vec{\\beta}^T \\vec{\\beta}\n",
    "$$\n",
    "\n",
    "This is called *ridge regression*. The effect of the new constraint is that larger weights (in absolute terms due to the $L_2$ norm) will penalise the total cost. So in order to minimise $S$ we need to shring the weights. Also, in oder to also minimise the residual sum of squares, the weights that are more relevant to fit the model to the data, will tend to have bigger weights (as it happens without regularisation). The rest will be clsoer to zero.\n",
    "\n",
    "In order to minimise our new cost function $S(\\vec{\\beta},\\lambda)$ we differentiate and equal to zero:\n",
    "\n",
    "$$\n",
    "\\begin{split}\n",
    "0 &= \\frac{d}{d \\vec{\\beta}} S(\\vec{\\beta},\\lambda) \\\\\n",
    "0 &= 2X^TX\\vec{\\beta} -2X^TY + 2\\lambda \\vec{\\beta}\\\\\n",
    "(X^TX+\\lambda I)\\vec{\\beta} & = X^T Y\n",
    "\\end{split}\n",
    "$$\n",
    "\n",
    "which gives us the ridge coefficients $\\vec{\\beta}_R$\n",
    "\n",
    "$$\n",
    "\\vec{\\beta}_R = (X^TX + \\lambda I)^{-1}X^TY\n",
    "$$\n",
    "\n",
    "The task is then to determine the amount of regularisation we need, represented by $\\lambda$. We tipically do that by grid search across different values of $\\lambda$ and using cross-validation. Hopefully, we won't need to do all that algebra by hand. Let's see how we can train a ridge regression model in Python.\n"
   ],
   "cell_type": "markdown",
   "metadata": {}
  },
  {
   "source": [
    "## Ridge regression in Python"
   ],
   "cell_type": "markdown",
   "metadata": {}
  },
  {
   "source": [
    "Let's first load our TB new cases data into a Pandas dataframe."
   ],
   "cell_type": "markdown",
   "metadata": {}
  },
  {
   "cell_type": "code",
   "execution_count": 26,
   "metadata": {},
   "outputs": [],
   "source": [
    "import urllib\n",
    "import pandas as pd\n",
    "\n",
    "tb_new_url_csv = 'https://docs.google.com/spreadsheets/d/1Pl51PcEGlO9Hp4Uh0x2_QM0xVb53p2UDBMPwcnSjFTk/pub?gid=0&output=csv'\n",
    "local_tb_new_file = 'tb_new_100.csv'\n",
    "new_f = urllib.request.urlretrieve(tb_new_url_csv, local_tb_new_file)\n",
    "\n",
    "new_df = pd.read_csv(local_tb_new_file, index_col = 0, thousands  = ',').T"
   ]
  },
  {
   "cell_type": "code",
   "execution_count": 27,
   "metadata": {},
   "outputs": [],
   "source": [
    "new_df = new_df[new_df.columns[new_df.isna().sum()==0]]"
   ]
  },
  {
   "source": [
    "We will try to predict the number of new cases in one country, `Algeria`, using information of the rest of the countries. That is, our target variable $y$ will be `Algeria`, and our vector of intpus $\\vec{x}$ will be the rest of the countries. We will consider each year as a sample. We expect most of the countries not to be informative to predict the amount of new cases in `Algeria`, and we hope that *ridge regression* will minimise the coefficients for those. Notice that the number of columns is twenty times the number of rows, so this can be considered a high dimensional dataset in terms of the amount of samples we have. "
   ],
   "cell_type": "markdown",
   "metadata": {}
  },
  {
   "cell_type": "code",
   "execution_count": 30,
   "metadata": {},
   "outputs": [
    {
     "output_type": "execute_result",
     "data": {
      "text/plain": [
       "(18, 207)"
      ]
     },
     "metadata": {},
     "execution_count": 30
    }
   ],
   "source": [
    "new_df.shape"
   ]
  },
  {
   "cell_type": "code",
   "execution_count": 28,
   "metadata": {},
   "outputs": [],
   "source": [
    "from sklearn.linear_model import Ridge\n",
    "from sklearn.model_selection import train_test_split\n",
    "\n",
    "y = new_df['Algeria']\n",
    "X = new_df[[c for c in new_df.columns if c not in ['Algeria']]]\n",
    "X_train, X_test, y_train, y_test = train_test_split(X, y, test_size=0.33, random_state=42)"
   ]
  },
  {
   "cell_type": "code",
   "execution_count": 31,
   "metadata": {},
   "outputs": [],
   "source": [
    "ridge_model = Ridge().fit(X_train, y_train)"
   ]
  },
  {
   "cell_type": "code",
   "execution_count": 38,
   "metadata": {},
   "outputs": [],
   "source": [
    "y_predicted = ridge_model.predict(X_test)"
   ]
  },
  {
   "cell_type": "code",
   "execution_count": 34,
   "metadata": {},
   "outputs": [
    {
     "output_type": "execute_result",
     "data": {
      "text/plain": [
       "TB incidence, all forms (per 100 000 population per year)  Afghanistan  \\\n",
       "1990                                                             168.0   \n",
       "1991                                                             168.0   \n",
       "1998                                                             168.0   \n",
       "1995                                                             168.0   \n",
       "1993                                                             168.0   \n",
       "2003                                                             168.0   \n",
       "\n",
       "TB incidence, all forms (per 100 000 population per year)  Albania  \\\n",
       "1990                                                          25.0   \n",
       "1991                                                          24.0   \n",
       "1998                                                          28.0   \n",
       "1995                                                          27.0   \n",
       "1993                                                          26.0   \n",
       "2003                                                          22.0   \n",
       "\n",
       "TB incidence, all forms (per 100 000 population per year)  American Samoa  \\\n",
       "1990                                                                 21.0   \n",
       "1991                                                                  7.0   \n",
       "1998                                                                  6.0   \n",
       "1995                                                                 11.0   \n",
       "1993                                                                  9.0   \n",
       "2003                                                                  5.0   \n",
       "\n",
       "TB incidence, all forms (per 100 000 population per year)  Andorra  Angola  \\\n",
       "1990                                                          36.0   205.0   \n",
       "1991                                                          34.0   209.0   \n",
       "1998                                                          25.0   240.0   \n",
       "1995                                                          27.0   226.0   \n",
       "1993                                                          30.0   218.0   \n",
       "2003                                                          20.0   265.0   \n",
       "\n",
       "TB incidence, all forms (per 100 000 population per year)  Anguilla  \\\n",
       "1990                                                           24.0   \n",
       "1991                                                           24.0   \n",
       "1998                                                           23.0   \n",
       "1995                                                           23.0   \n",
       "1993                                                           24.0   \n",
       "2003                                                           22.0   \n",
       "\n",
       "TB incidence, all forms (per 100 000 population per year)  Antigua and Barbuda  \\\n",
       "1990                                                                      10.0   \n",
       "1991                                                                      10.0   \n",
       "1998                                                                       7.0   \n",
       "1995                                                                       8.0   \n",
       "1993                                                                       9.0   \n",
       "2003                                                                       6.0   \n",
       "\n",
       "TB incidence, all forms (per 100 000 population per year)  Argentina  Armenia  \\\n",
       "1990                                                            60.0     33.0   \n",
       "1991                                                            57.0     32.0   \n",
       "1998                                                            44.0     63.0   \n",
       "1995                                                            49.0     47.0   \n",
       "1993                                                            53.0     37.0   \n",
       "2003                                                            36.0     71.0   \n",
       "\n",
       "TB incidence, all forms (per 100 000 population per year)  Australia  ...  \\\n",
       "1990                                                             7.0  ...   \n",
       "1991                                                             7.0  ...   \n",
       "1998                                                             6.0  ...   \n",
       "1995                                                             7.0  ...   \n",
       "1993                                                             7.0  ...   \n",
       "2003                                                             6.0  ...   \n",
       "\n",
       "TB incidence, all forms (per 100 000 population per year)  Uruguay  \\\n",
       "1990                                                          28.0   \n",
       "1991                                                          27.0   \n",
       "1998                                                          25.0   \n",
       "1995                                                          26.0   \n",
       "1993                                                          27.0   \n",
       "2003                                                          23.0   \n",
       "\n",
       "TB incidence, all forms (per 100 000 population per year)  Uzbekistan  \\\n",
       "1990                                                             68.0   \n",
       "1991                                                             64.0   \n",
       "1998                                                             85.0   \n",
       "1995                                                             76.0   \n",
       "1993                                                             73.0   \n",
       "2003                                                            113.0   \n",
       "\n",
       "TB incidence, all forms (per 100 000 population per year)  Vanuatu  Venezuela  \\\n",
       "1990                                                         139.0       35.0   \n",
       "1991                                                         134.0       35.0   \n",
       "1998                                                         105.0       34.0   \n",
       "1995                                                         117.0       35.0   \n",
       "1993                                                         125.0       35.0   \n",
       "2003                                                          89.0       34.0   \n",
       "\n",
       "TB incidence, all forms (per 100 000 population per year)  Viet Nam  \\\n",
       "1990                                                          202.0   \n",
       "1991                                                          200.0   \n",
       "1998                                                          187.0   \n",
       "1995                                                          193.0   \n",
       "1993                                                          196.0   \n",
       "2003                                                          178.0   \n",
       "\n",
       "TB incidence, all forms (per 100 000 population per year)  Wallis et Futuna  \\\n",
       "1990                                                                   63.0   \n",
       "1991                                                                  176.0   \n",
       "1998                                                                   54.0   \n",
       "1995                                                                   47.0   \n",
       "1993                                                                   87.0   \n",
       "2003                                                                  111.0   \n",
       "\n",
       "TB incidence, all forms (per 100 000 population per year)  West Bank and Gaza  \\\n",
       "1990                                                                     35.0   \n",
       "1991                                                                     34.0   \n",
       "1998                                                                     28.0   \n",
       "1995                                                                     32.0   \n",
       "1993                                                                     33.0   \n",
       "2003                                                                     23.0   \n",
       "\n",
       "TB incidence, all forms (per 100 000 population per year)  Yemen  Zambia  \\\n",
       "1990                                                       133.0   297.0   \n",
       "1991                                                       131.0   349.0   \n",
       "1998                                                       106.0   583.0   \n",
       "1995                                                       122.0   536.0   \n",
       "1993                                                       127.0   460.0   \n",
       "2003                                                        89.0   652.0   \n",
       "\n",
       "TB incidence, all forms (per 100 000 population per year)  Zimbabwe  \n",
       "1990                                                          329.0  \n",
       "1991                                                          364.0  \n",
       "1998                                                          580.0  \n",
       "1995                                                          474.0  \n",
       "1993                                                          417.0  \n",
       "2003                                                          825.0  \n",
       "\n",
       "[6 rows x 206 columns]"
      ],
      "text/html": "<div>\n<style scoped>\n    .dataframe tbody tr th:only-of-type {\n        vertical-align: middle;\n    }\n\n    .dataframe tbody tr th {\n        vertical-align: top;\n    }\n\n    .dataframe thead th {\n        text-align: right;\n    }\n</style>\n<table border=\"1\" class=\"dataframe\">\n  <thead>\n    <tr style=\"text-align: right;\">\n      <th>TB incidence, all forms (per 100 000 population per year)</th>\n      <th>Afghanistan</th>\n      <th>Albania</th>\n      <th>American Samoa</th>\n      <th>Andorra</th>\n      <th>Angola</th>\n      <th>Anguilla</th>\n      <th>Antigua and Barbuda</th>\n      <th>Argentina</th>\n      <th>Armenia</th>\n      <th>Australia</th>\n      <th>...</th>\n      <th>Uruguay</th>\n      <th>Uzbekistan</th>\n      <th>Vanuatu</th>\n      <th>Venezuela</th>\n      <th>Viet Nam</th>\n      <th>Wallis et Futuna</th>\n      <th>West Bank and Gaza</th>\n      <th>Yemen</th>\n      <th>Zambia</th>\n      <th>Zimbabwe</th>\n    </tr>\n  </thead>\n  <tbody>\n    <tr>\n      <th>1990</th>\n      <td>168.0</td>\n      <td>25.0</td>\n      <td>21.0</td>\n      <td>36.0</td>\n      <td>205.0</td>\n      <td>24.0</td>\n      <td>10.0</td>\n      <td>60.0</td>\n      <td>33.0</td>\n      <td>7.0</td>\n      <td>...</td>\n      <td>28.0</td>\n      <td>68.0</td>\n      <td>139.0</td>\n      <td>35.0</td>\n      <td>202.0</td>\n      <td>63.0</td>\n      <td>35.0</td>\n      <td>133.0</td>\n      <td>297.0</td>\n      <td>329.0</td>\n    </tr>\n    <tr>\n      <th>1991</th>\n      <td>168.0</td>\n      <td>24.0</td>\n      <td>7.0</td>\n      <td>34.0</td>\n      <td>209.0</td>\n      <td>24.0</td>\n      <td>10.0</td>\n      <td>57.0</td>\n      <td>32.0</td>\n      <td>7.0</td>\n      <td>...</td>\n      <td>27.0</td>\n      <td>64.0</td>\n      <td>134.0</td>\n      <td>35.0</td>\n      <td>200.0</td>\n      <td>176.0</td>\n      <td>34.0</td>\n      <td>131.0</td>\n      <td>349.0</td>\n      <td>364.0</td>\n    </tr>\n    <tr>\n      <th>1998</th>\n      <td>168.0</td>\n      <td>28.0</td>\n      <td>6.0</td>\n      <td>25.0</td>\n      <td>240.0</td>\n      <td>23.0</td>\n      <td>7.0</td>\n      <td>44.0</td>\n      <td>63.0</td>\n      <td>6.0</td>\n      <td>...</td>\n      <td>25.0</td>\n      <td>85.0</td>\n      <td>105.0</td>\n      <td>34.0</td>\n      <td>187.0</td>\n      <td>54.0</td>\n      <td>28.0</td>\n      <td>106.0</td>\n      <td>583.0</td>\n      <td>580.0</td>\n    </tr>\n    <tr>\n      <th>1995</th>\n      <td>168.0</td>\n      <td>27.0</td>\n      <td>11.0</td>\n      <td>27.0</td>\n      <td>226.0</td>\n      <td>23.0</td>\n      <td>8.0</td>\n      <td>49.0</td>\n      <td>47.0</td>\n      <td>7.0</td>\n      <td>...</td>\n      <td>26.0</td>\n      <td>76.0</td>\n      <td>117.0</td>\n      <td>35.0</td>\n      <td>193.0</td>\n      <td>47.0</td>\n      <td>32.0</td>\n      <td>122.0</td>\n      <td>536.0</td>\n      <td>474.0</td>\n    </tr>\n    <tr>\n      <th>1993</th>\n      <td>168.0</td>\n      <td>26.0</td>\n      <td>9.0</td>\n      <td>30.0</td>\n      <td>218.0</td>\n      <td>24.0</td>\n      <td>9.0</td>\n      <td>53.0</td>\n      <td>37.0</td>\n      <td>7.0</td>\n      <td>...</td>\n      <td>27.0</td>\n      <td>73.0</td>\n      <td>125.0</td>\n      <td>35.0</td>\n      <td>196.0</td>\n      <td>87.0</td>\n      <td>33.0</td>\n      <td>127.0</td>\n      <td>460.0</td>\n      <td>417.0</td>\n    </tr>\n    <tr>\n      <th>2003</th>\n      <td>168.0</td>\n      <td>22.0</td>\n      <td>5.0</td>\n      <td>20.0</td>\n      <td>265.0</td>\n      <td>22.0</td>\n      <td>6.0</td>\n      <td>36.0</td>\n      <td>71.0</td>\n      <td>6.0</td>\n      <td>...</td>\n      <td>23.0</td>\n      <td>113.0</td>\n      <td>89.0</td>\n      <td>34.0</td>\n      <td>178.0</td>\n      <td>111.0</td>\n      <td>23.0</td>\n      <td>89.0</td>\n      <td>652.0</td>\n      <td>825.0</td>\n    </tr>\n  </tbody>\n</table>\n<p>6 rows × 206 columns</p>\n</div>"
     },
     "metadata": {},
     "execution_count": 34
    }
   ],
   "source": [
    "X_test"
   ]
  },
  {
   "cell_type": "code",
   "execution_count": 39,
   "metadata": {},
   "outputs": [],
   "source": [
    "predictions_df = pd.DataFrame({\n",
    "    'year': X_test.index.values,\n",
    "    'Actual new cases': y_test,\n",
    "    'Predicted new cases': y_predicted\n",
    "})"
   ]
  },
  {
   "cell_type": "code",
   "execution_count": 40,
   "metadata": {},
   "outputs": [
    {
     "output_type": "execute_result",
     "data": {
      "text/plain": [
       "      year  Actual new cases  Predicted new cases\n",
       "1990  1990              38.0            39.228734\n",
       "1991  1991              38.0            39.089076\n",
       "1998  1998              46.0            45.205599\n",
       "1995  1995              42.0            41.625751\n",
       "1993  1993              40.0            39.586820\n",
       "2003  2003              51.0            52.012267"
      ],
      "text/html": "<div>\n<style scoped>\n    .dataframe tbody tr th:only-of-type {\n        vertical-align: middle;\n    }\n\n    .dataframe tbody tr th {\n        vertical-align: top;\n    }\n\n    .dataframe thead th {\n        text-align: right;\n    }\n</style>\n<table border=\"1\" class=\"dataframe\">\n  <thead>\n    <tr style=\"text-align: right;\">\n      <th></th>\n      <th>year</th>\n      <th>Actual new cases</th>\n      <th>Predicted new cases</th>\n    </tr>\n  </thead>\n  <tbody>\n    <tr>\n      <th>1990</th>\n      <td>1990</td>\n      <td>38.0</td>\n      <td>39.228734</td>\n    </tr>\n    <tr>\n      <th>1991</th>\n      <td>1991</td>\n      <td>38.0</td>\n      <td>39.089076</td>\n    </tr>\n    <tr>\n      <th>1998</th>\n      <td>1998</td>\n      <td>46.0</td>\n      <td>45.205599</td>\n    </tr>\n    <tr>\n      <th>1995</th>\n      <td>1995</td>\n      <td>42.0</td>\n      <td>41.625751</td>\n    </tr>\n    <tr>\n      <th>1993</th>\n      <td>1993</td>\n      <td>40.0</td>\n      <td>39.586820</td>\n    </tr>\n    <tr>\n      <th>2003</th>\n      <td>2003</td>\n      <td>51.0</td>\n      <td>52.012267</td>\n    </tr>\n  </tbody>\n</table>\n</div>"
     },
     "metadata": {},
     "execution_count": 40
    }
   ],
   "source": [
    "predictions_df"
   ]
  },
  {
   "source": [
    "## References\n",
    "\n",
    "1. Bishop. *Pattern recognition and machine learning*. 2006\n",
    "2. Hastie. *The Elements of Statistical Learning*. 2nd Ed. "
   ],
   "cell_type": "markdown",
   "metadata": {}
  },
  {
   "source": [],
   "cell_type": "markdown",
   "metadata": {}
  }
 ]
}