{
 "metadata": {
  "language_info": {
   "codemirror_mode": {
    "name": "ipython",
    "version": 3
   },
   "file_extension": ".py",
   "mimetype": "text/x-python",
   "name": "python",
   "nbconvert_exporter": "python",
   "pygments_lexer": "ipython3",
   "version": "3.8.3"
  },
  "orig_nbformat": 2,
  "kernelspec": {
   "name": "python383jvsc74a57bd0100b910e55866629a89cf7fde535a4247d4557bf876752a989cd535a3de09789",
   "display_name": "Python 3.8.3 64-bit ('anaconda3': virtualenv)"
  }
 },
 "nbformat": 4,
 "nbformat_minor": 2,
 "cells": [
  {
   "source": [
    "# Regularised linear models for regression"
   ],
   "cell_type": "markdown",
   "metadata": {}
  },
  {
   "source": [
    "## (Gaussian) Linear models for regression"
   ],
   "cell_type": "markdown",
   "metadata": {}
  },
  {
   "source": [
    "The goal of regression is to predict the value of one or more continuous *target* variables $y$ given the value of a $p$-dimensional vector $\\vec{x}$ of input variables [1]. \n",
    "\n",
    "$$\n",
    "x_1, x_2, \\dots, x_p \\rightarrow y\n",
    "$$\n",
    "\n",
    "The simplest linear regression models share the property of being linear functions of the input parameters. If we call that function $f$, a model prediction $\\hat{y}$ for a given value of the input vector $\\vec{x}$ is given by \n",
    "\n",
    "$$\n",
    "\\hat{y} = f(x_1, x_2, \\dots, x_p)\n",
    "$$\n",
    "\n",
    "The process of learning the function $f$ is what machine learning or statistical learning is about. We use a dataset D, made of $N$ labeled samples $(x_1, x_2, \\dots, x_p, y)_{i=1..N}$, to estimate the function $f$. We will get a bit deeper into this subject in the following sections, in the context of cost functions and regularisation. But in principle, for each data point, we have that \n",
    "\n",
    "\n",
    "$$\n",
    "y_i = f(\\vec{x}_i) + \\epsilon\n",
    "$$\n",
    "\n",
    "This is equivalent to say that for each sample, the target variable is given by a deterministic function (i.e. $f$) plus noise. Probably the most popular the most popular family of models comes from the assumption that the error $\\epsilon$ is normally distributed (i.e. Gaussian), which is not a bad assumption in most real world scenarios thanks to the central limit theorem. That is equivalent to say that the input vector and output variable together make a multi-variate normal distribution $(x_1, x_2, \\dots, x_p, y)$. If we take a probabilistic approach, we can describe each data point as:\n",
    "\n",
    "$$\n",
    "p(y_i | \\vec{x}_i) \\sim N(\\mu_i, \\sigma^2)\n",
    "$$\n",
    "\n",
    "that is, the target variable $y$ is normally distributed conditional to the values of $\\vec{x}$ where \n",
    "\n",
    "$$\n",
    "\\mu_i = \\beta_1 \\Phi_1(\\vec{x}_i) + \\dots + \\beta_r \\Phi_r(\\vec{x}_i)\n",
    "$$\n",
    "\n",
    "that is, we define the function $f$ (and the center of the distribution) in terms of a series of $r$ weights or coefficients $\\vec{\\beta}$ and selection functions $\\vec{\\Phi}$ that combine the values of the inputs to get the output. Finally, if we define for the whole dataset \n",
    "\n",
    "$$\n",
    "Y = \\begin{pmatrix}\n",
    "y_1 \\\\ \n",
    "y_2 \\\\ \n",
    "\\dots \\\\ \n",
    "y_N\n",
    "\\end{pmatrix}\n",
    "\n",
    "\\vec{\\beta} = \\begin{pmatrix}\n",
    "\\beta_1 \\\\ \n",
    "\\beta_2 \\\\ \n",
    "\\dots \\\\ \n",
    "\\beta_r\n",
    "\\end{pmatrix}\n",
    "\n",
    "X = \\begin{pmatrix}\n",
    "\\Phi_1(\\vec{x}_1) && \\Phi_2(\\vec{x}_1) && \\dots && \\Phi_r(\\vec{x}_1) \\\\ \n",
    "\\Phi_1(\\vec{x}_2) && \\Phi_2(\\vec{x}_2) && \\dots && \\Phi_r(\\vec{x}_2) \\\\ \n",
    "\\dots && \\dots && \\dots && \\dots \\\\\n",
    "\\Phi_1(\\vec{x}_N) && \\Phi_2(\\vec{x}_N) && \\dots && \\Phi_r(\\vec{x}_N) \\\\ \n",
    "\\end{pmatrix}\n",
    "$$ and \n",
    "\n",
    "we have that \n",
    "\n",
    "$$\n",
    "Y = X \\vec{\\beta} + \\epsilon\n",
    "$$\n",
    "\n",
    "or equivalently\n",
    "\n",
    "$$\n",
    "p(Y) \\sim N(X \\vec{\\beta}, \\sigma^2 I)\n",
    "$$\n",
    "\n",
    "The problem is then to estimate the coefficients vector $\\vec{\\beta}$. Two ways of estimate these values are *least squares estimation* and *maximum likelihood estimation*. Although the are equivalent for linear gaussian models, they do not have to be. We will focus on the first approach for the time being."
   ],
   "cell_type": "markdown",
   "metadata": {}
  },
  {
   "source": [
    "## Least Squares Estimation\n",
    "\n",
    "The LSE method uses a cost function $S$, the residual sum of squares, which we aim to minimise:\n",
    "\n",
    "$$\n",
    "S(\\vec{\\beta}) = \\sum_{i=1}^{N} (Y_i - \\sum_{k=1}^{r} \\beta_k \\Phi_k(x_i))^2 = (Y - X\\vec{\\beta})^T(Y-X \\vec{\\beta})\n",
    "$$\n",
    "\n",
    "We sum, over all $N$ samples in out dataset, the squared difference between the actual value $Y_i$ and the prediction. Hence, our task is to find the vector of weights that minimises the resodual sum of squares:\n",
    "\n",
    "$$\n",
    "\\vec{\\hat{\\beta}} = \\underset{\\vec{\\beta}}{argmin} (Y - X\\vec{\\beta})^T(Y-X \\vec{\\beta})\n",
    "$$"
   ],
   "cell_type": "markdown",
   "metadata": {}
  },
  {
   "source": [
    "## A regularised cost function"
   ],
   "cell_type": "markdown",
   "metadata": {}
  },
  {
   "source": [
    "One of the most important steps in the machine learning model is feature selection. During that step, we decide which elements of the input vector $\\vec{x}$ are important and will be used to predict the target variable $y$. Not all elements of $\\vec{x}$ are equally (or at all) important to predict the target variable. One principled and more continuous way of doing that is by penalising the cost function $C$ in a way that it keeps only the most important elements of $\\vec{x}$. This process is called *regularisation* or *shrinkage*.\n",
    "\n",
    "Remember that our task is to find the vector of weights that minimises the resodual sum of squares:\n",
    "\n",
    "$$\n",
    "\\vec{\\hat{\\beta}} = \\underset{\\vec{\\beta}}{argmin} (Y - X\\vec{\\beta})^T(Y-X \\vec{\\beta})\n",
    "$$\n",
    "\n",
    "we can add an new constraint to our minimisation task in the form of a limit to the $L_2$ norm of the weight vector, given by the scalar product $\\vec{\\beta}^T \\vec{\\beta}$:\n",
    "\n",
    "$$\n",
    "\\vec{\\hat{\\beta}} = \\underset{\\vec{\\beta}, \\vec{\\beta}^T \\vec{\\beta}}{argmin} (Y - X\\vec{\\beta})^T(Y-X \\vec{\\beta})\n",
    "$$\n",
    "\n",
    "that is, the new task is to find $\\vec{\\beta}$ that minimises the residual sum of squares subject to its $L_2$ also minimising it. To find the values of $\\vec{\\beta}$, we can put that into a *Lagrange multiplier* term:\n",
    "\n",
    "$$\n",
    "\\vec{\\hat{\\beta}} = \\underset{\\vec{\\beta}}{argmin} (Y - X\\vec{\\beta})^T(Y-X \\vec{\\beta}) + \\lambda \\vec{\\beta}^T \\vec{\\beta}\n",
    "$$\n",
    "\n",
    "This is called *Ridge Regression*. The effect of the new constraint is that larger weights (in absolute terms due to the $L_2$ norm) will penalise the total cost. So in order to minimise $S$ we need to shring the weights. Also, in oder to also minimise the residual sum of squares, the weights that are more relevant to fit the model to the data, will tend to have bigger weights (as it happens without regularisation). The rest will be clsoer to zero.\n",
    "\n",
    "In order to minimise our new cost function $S(\\vec{\\beta},\\lambda)$ we differentiate and equal to zero:\n",
    "\n",
    "$$\n",
    "\\begin{split}\n",
    "0 &= \\frac{d}{d \\vec{\\beta}} S(\\vec{\\beta},\\lambda) \\\\\n",
    "0 &= 2X^TX\\vec{\\beta} -2X^TY + 2\\lambda \\vec{\\beta}\\\\\n",
    "(X^TX+\\lambda I)\\vec{\\beta} & = X^T Y\n",
    "\\end{split}\n",
    "$$\n",
    "\n",
    "which gives us the ridge coefficients $\\vec{\\beta}_R$\n",
    "\n",
    "$$\n",
    "\\vec{\\beta}_R = (X^TX + \\lambda I)^{-1}X^TY\n",
    "$$\n",
    "\n",
    "The task is then to determine the amount of regularisation we need, represented by $\\lambda$. We tipically do that by grid search across different values of $\\lambda$ and using cross-validation. Hopefully, we won't need to do all that algebra by hand. Let's see how we can train a ridge regression model in Python.\n"
   ],
   "cell_type": "markdown",
   "metadata": {}
  },
  {
   "source": [
    "#### Ridge regression in Python"
   ],
   "cell_type": "markdown",
   "metadata": {}
  },
  {
   "source": [
    "Let's first load our TB new cases data into a Pandas dataframe."
   ],
   "cell_type": "markdown",
   "metadata": {}
  },
  {
   "cell_type": "code",
   "execution_count": 142,
   "metadata": {},
   "outputs": [],
   "source": [
    "import urllib\n",
    "import pandas as pd\n",
    "\n",
    "tb_new_url_csv = 'https://docs.google.com/spreadsheets/d/1Pl51PcEGlO9Hp4Uh0x2_QM0xVb53p2UDBMPwcnSjFTk/pub?gid=0&output=csv'\n",
    "local_tb_new_file = 'tb_new_100.csv'\n",
    "new_f = urllib.request.urlretrieve(tb_new_url_csv, local_tb_new_file)\n",
    "\n",
    "new_df = pd.read_csv(local_tb_new_file, index_col = 0, thousands  = ',').T"
   ]
  },
  {
   "cell_type": "code",
   "execution_count": 143,
   "metadata": {},
   "outputs": [],
   "source": [
    "new_df = new_df[new_df.columns[new_df.isna().sum()==0]]"
   ]
  },
  {
   "source": [
    "We will try to predict the number of new cases in one country, `Algeria`, using information of the rest of the countries. That is, our target variable $y$ will be `Algeria`, and our vector of intpus $\\vec{x}$ will be the rest of the countries. We will consider each year as a sample. We expect most of the countries not to be informative to predict the amount of new cases in `Algeria`, and we hope that *ridge regression* will minimise the coefficients for those. Notice that the number of columns is twenty times the number of rows, so this can be considered a high dimensional dataset in terms of the amount of samples we have. "
   ],
   "cell_type": "markdown",
   "metadata": {}
  },
  {
   "cell_type": "code",
   "execution_count": 144,
   "metadata": {},
   "outputs": [
    {
     "output_type": "execute_result",
     "data": {
      "text/plain": [
       "(18, 207)"
      ]
     },
     "metadata": {},
     "execution_count": 144
    }
   ],
   "source": [
    "new_df.shape"
   ]
  },
  {
   "cell_type": "code",
   "execution_count": 145,
   "metadata": {},
   "outputs": [],
   "source": [
    "from sklearn.linear_model import Ridge\n",
    "from sklearn.model_selection import train_test_split\n",
    "\n",
    "y = new_df['Algeria']\n",
    "X = new_df[[c for c in new_df.columns if c not in ['Algeria']]]\n",
    "X_train, X_test, y_train, y_test = train_test_split(X, y, test_size=0.33, random_state=42)"
   ]
  },
  {
   "cell_type": "code",
   "execution_count": 146,
   "metadata": {},
   "outputs": [],
   "source": [
    "ridge_model = Ridge().fit(X_train, y_train)"
   ]
  },
  {
   "cell_type": "code",
   "execution_count": 147,
   "metadata": {},
   "outputs": [],
   "source": [
    "y_predicted = ridge_model.predict(X_test)"
   ]
  },
  {
   "cell_type": "code",
   "execution_count": 148,
   "metadata": {},
   "outputs": [
    {
     "output_type": "execute_result",
     "data": {
      "text/plain": [
       "TB incidence, all forms (per 100 000 population per year)  Afghanistan  \\\n",
       "1990                                                             168.0   \n",
       "1991                                                             168.0   \n",
       "1998                                                             168.0   \n",
       "1995                                                             168.0   \n",
       "1993                                                             168.0   \n",
       "2003                                                             168.0   \n",
       "\n",
       "TB incidence, all forms (per 100 000 population per year)  Albania  \\\n",
       "1990                                                          25.0   \n",
       "1991                                                          24.0   \n",
       "1998                                                          28.0   \n",
       "1995                                                          27.0   \n",
       "1993                                                          26.0   \n",
       "2003                                                          22.0   \n",
       "\n",
       "TB incidence, all forms (per 100 000 population per year)  American Samoa  \\\n",
       "1990                                                                 21.0   \n",
       "1991                                                                  7.0   \n",
       "1998                                                                  6.0   \n",
       "1995                                                                 11.0   \n",
       "1993                                                                  9.0   \n",
       "2003                                                                  5.0   \n",
       "\n",
       "TB incidence, all forms (per 100 000 population per year)  Andorra  Angola  \\\n",
       "1990                                                          36.0   205.0   \n",
       "1991                                                          34.0   209.0   \n",
       "1998                                                          25.0   240.0   \n",
       "1995                                                          27.0   226.0   \n",
       "1993                                                          30.0   218.0   \n",
       "2003                                                          20.0   265.0   \n",
       "\n",
       "TB incidence, all forms (per 100 000 population per year)  Anguilla  \\\n",
       "1990                                                           24.0   \n",
       "1991                                                           24.0   \n",
       "1998                                                           23.0   \n",
       "1995                                                           23.0   \n",
       "1993                                                           24.0   \n",
       "2003                                                           22.0   \n",
       "\n",
       "TB incidence, all forms (per 100 000 population per year)  Antigua and Barbuda  \\\n",
       "1990                                                                      10.0   \n",
       "1991                                                                      10.0   \n",
       "1998                                                                       7.0   \n",
       "1995                                                                       8.0   \n",
       "1993                                                                       9.0   \n",
       "2003                                                                       6.0   \n",
       "\n",
       "TB incidence, all forms (per 100 000 population per year)  Argentina  Armenia  \\\n",
       "1990                                                            60.0     33.0   \n",
       "1991                                                            57.0     32.0   \n",
       "1998                                                            44.0     63.0   \n",
       "1995                                                            49.0     47.0   \n",
       "1993                                                            53.0     37.0   \n",
       "2003                                                            36.0     71.0   \n",
       "\n",
       "TB incidence, all forms (per 100 000 population per year)  Australia  ...  \\\n",
       "1990                                                             7.0  ...   \n",
       "1991                                                             7.0  ...   \n",
       "1998                                                             6.0  ...   \n",
       "1995                                                             7.0  ...   \n",
       "1993                                                             7.0  ...   \n",
       "2003                                                             6.0  ...   \n",
       "\n",
       "TB incidence, all forms (per 100 000 population per year)  Uruguay  \\\n",
       "1990                                                          28.0   \n",
       "1991                                                          27.0   \n",
       "1998                                                          25.0   \n",
       "1995                                                          26.0   \n",
       "1993                                                          27.0   \n",
       "2003                                                          23.0   \n",
       "\n",
       "TB incidence, all forms (per 100 000 population per year)  Uzbekistan  \\\n",
       "1990                                                             68.0   \n",
       "1991                                                             64.0   \n",
       "1998                                                             85.0   \n",
       "1995                                                             76.0   \n",
       "1993                                                             73.0   \n",
       "2003                                                            113.0   \n",
       "\n",
       "TB incidence, all forms (per 100 000 population per year)  Vanuatu  Venezuela  \\\n",
       "1990                                                         139.0       35.0   \n",
       "1991                                                         134.0       35.0   \n",
       "1998                                                         105.0       34.0   \n",
       "1995                                                         117.0       35.0   \n",
       "1993                                                         125.0       35.0   \n",
       "2003                                                          89.0       34.0   \n",
       "\n",
       "TB incidence, all forms (per 100 000 population per year)  Viet Nam  \\\n",
       "1990                                                          202.0   \n",
       "1991                                                          200.0   \n",
       "1998                                                          187.0   \n",
       "1995                                                          193.0   \n",
       "1993                                                          196.0   \n",
       "2003                                                          178.0   \n",
       "\n",
       "TB incidence, all forms (per 100 000 population per year)  Wallis et Futuna  \\\n",
       "1990                                                                   63.0   \n",
       "1991                                                                  176.0   \n",
       "1998                                                                   54.0   \n",
       "1995                                                                   47.0   \n",
       "1993                                                                   87.0   \n",
       "2003                                                                  111.0   \n",
       "\n",
       "TB incidence, all forms (per 100 000 population per year)  West Bank and Gaza  \\\n",
       "1990                                                                     35.0   \n",
       "1991                                                                     34.0   \n",
       "1998                                                                     28.0   \n",
       "1995                                                                     32.0   \n",
       "1993                                                                     33.0   \n",
       "2003                                                                     23.0   \n",
       "\n",
       "TB incidence, all forms (per 100 000 population per year)  Yemen  Zambia  \\\n",
       "1990                                                       133.0   297.0   \n",
       "1991                                                       131.0   349.0   \n",
       "1998                                                       106.0   583.0   \n",
       "1995                                                       122.0   536.0   \n",
       "1993                                                       127.0   460.0   \n",
       "2003                                                        89.0   652.0   \n",
       "\n",
       "TB incidence, all forms (per 100 000 population per year)  Zimbabwe  \n",
       "1990                                                          329.0  \n",
       "1991                                                          364.0  \n",
       "1998                                                          580.0  \n",
       "1995                                                          474.0  \n",
       "1993                                                          417.0  \n",
       "2003                                                          825.0  \n",
       "\n",
       "[6 rows x 206 columns]"
      ],
      "text/html": "<div>\n<style scoped>\n    .dataframe tbody tr th:only-of-type {\n        vertical-align: middle;\n    }\n\n    .dataframe tbody tr th {\n        vertical-align: top;\n    }\n\n    .dataframe thead th {\n        text-align: right;\n    }\n</style>\n<table border=\"1\" class=\"dataframe\">\n  <thead>\n    <tr style=\"text-align: right;\">\n      <th>TB incidence, all forms (per 100 000 population per year)</th>\n      <th>Afghanistan</th>\n      <th>Albania</th>\n      <th>American Samoa</th>\n      <th>Andorra</th>\n      <th>Angola</th>\n      <th>Anguilla</th>\n      <th>Antigua and Barbuda</th>\n      <th>Argentina</th>\n      <th>Armenia</th>\n      <th>Australia</th>\n      <th>...</th>\n      <th>Uruguay</th>\n      <th>Uzbekistan</th>\n      <th>Vanuatu</th>\n      <th>Venezuela</th>\n      <th>Viet Nam</th>\n      <th>Wallis et Futuna</th>\n      <th>West Bank and Gaza</th>\n      <th>Yemen</th>\n      <th>Zambia</th>\n      <th>Zimbabwe</th>\n    </tr>\n  </thead>\n  <tbody>\n    <tr>\n      <th>1990</th>\n      <td>168.0</td>\n      <td>25.0</td>\n      <td>21.0</td>\n      <td>36.0</td>\n      <td>205.0</td>\n      <td>24.0</td>\n      <td>10.0</td>\n      <td>60.0</td>\n      <td>33.0</td>\n      <td>7.0</td>\n      <td>...</td>\n      <td>28.0</td>\n      <td>68.0</td>\n      <td>139.0</td>\n      <td>35.0</td>\n      <td>202.0</td>\n      <td>63.0</td>\n      <td>35.0</td>\n      <td>133.0</td>\n      <td>297.0</td>\n      <td>329.0</td>\n    </tr>\n    <tr>\n      <th>1991</th>\n      <td>168.0</td>\n      <td>24.0</td>\n      <td>7.0</td>\n      <td>34.0</td>\n      <td>209.0</td>\n      <td>24.0</td>\n      <td>10.0</td>\n      <td>57.0</td>\n      <td>32.0</td>\n      <td>7.0</td>\n      <td>...</td>\n      <td>27.0</td>\n      <td>64.0</td>\n      <td>134.0</td>\n      <td>35.0</td>\n      <td>200.0</td>\n      <td>176.0</td>\n      <td>34.0</td>\n      <td>131.0</td>\n      <td>349.0</td>\n      <td>364.0</td>\n    </tr>\n    <tr>\n      <th>1998</th>\n      <td>168.0</td>\n      <td>28.0</td>\n      <td>6.0</td>\n      <td>25.0</td>\n      <td>240.0</td>\n      <td>23.0</td>\n      <td>7.0</td>\n      <td>44.0</td>\n      <td>63.0</td>\n      <td>6.0</td>\n      <td>...</td>\n      <td>25.0</td>\n      <td>85.0</td>\n      <td>105.0</td>\n      <td>34.0</td>\n      <td>187.0</td>\n      <td>54.0</td>\n      <td>28.0</td>\n      <td>106.0</td>\n      <td>583.0</td>\n      <td>580.0</td>\n    </tr>\n    <tr>\n      <th>1995</th>\n      <td>168.0</td>\n      <td>27.0</td>\n      <td>11.0</td>\n      <td>27.0</td>\n      <td>226.0</td>\n      <td>23.0</td>\n      <td>8.0</td>\n      <td>49.0</td>\n      <td>47.0</td>\n      <td>7.0</td>\n      <td>...</td>\n      <td>26.0</td>\n      <td>76.0</td>\n      <td>117.0</td>\n      <td>35.0</td>\n      <td>193.0</td>\n      <td>47.0</td>\n      <td>32.0</td>\n      <td>122.0</td>\n      <td>536.0</td>\n      <td>474.0</td>\n    </tr>\n    <tr>\n      <th>1993</th>\n      <td>168.0</td>\n      <td>26.0</td>\n      <td>9.0</td>\n      <td>30.0</td>\n      <td>218.0</td>\n      <td>24.0</td>\n      <td>9.0</td>\n      <td>53.0</td>\n      <td>37.0</td>\n      <td>7.0</td>\n      <td>...</td>\n      <td>27.0</td>\n      <td>73.0</td>\n      <td>125.0</td>\n      <td>35.0</td>\n      <td>196.0</td>\n      <td>87.0</td>\n      <td>33.0</td>\n      <td>127.0</td>\n      <td>460.0</td>\n      <td>417.0</td>\n    </tr>\n    <tr>\n      <th>2003</th>\n      <td>168.0</td>\n      <td>22.0</td>\n      <td>5.0</td>\n      <td>20.0</td>\n      <td>265.0</td>\n      <td>22.0</td>\n      <td>6.0</td>\n      <td>36.0</td>\n      <td>71.0</td>\n      <td>6.0</td>\n      <td>...</td>\n      <td>23.0</td>\n      <td>113.0</td>\n      <td>89.0</td>\n      <td>34.0</td>\n      <td>178.0</td>\n      <td>111.0</td>\n      <td>23.0</td>\n      <td>89.0</td>\n      <td>652.0</td>\n      <td>825.0</td>\n    </tr>\n  </tbody>\n</table>\n<p>6 rows × 206 columns</p>\n</div>"
     },
     "metadata": {},
     "execution_count": 148
    }
   ],
   "source": [
    "X_test"
   ]
  },
  {
   "cell_type": "code",
   "execution_count": 149,
   "metadata": {},
   "outputs": [],
   "source": [
    "predictions_df = pd.DataFrame({\n",
    "    'Actual new cases': y_test,\n",
    "    'Ridge prediction': y_predicted\n",
    "})"
   ]
  },
  {
   "cell_type": "code",
   "execution_count": 150,
   "metadata": {},
   "outputs": [
    {
     "output_type": "execute_result",
     "data": {
      "text/plain": [
       "      Actual new cases  Ridge prediction\n",
       "1990              38.0         39.228734\n",
       "1991              38.0         39.089076\n",
       "1998              46.0         45.205599\n",
       "1995              42.0         41.625751\n",
       "1993              40.0         39.586820\n",
       "2003              51.0         52.012267"
      ],
      "text/html": "<div>\n<style scoped>\n    .dataframe tbody tr th:only-of-type {\n        vertical-align: middle;\n    }\n\n    .dataframe tbody tr th {\n        vertical-align: top;\n    }\n\n    .dataframe thead th {\n        text-align: right;\n    }\n</style>\n<table border=\"1\" class=\"dataframe\">\n  <thead>\n    <tr style=\"text-align: right;\">\n      <th></th>\n      <th>Actual new cases</th>\n      <th>Ridge prediction</th>\n    </tr>\n  </thead>\n  <tbody>\n    <tr>\n      <th>1990</th>\n      <td>38.0</td>\n      <td>39.228734</td>\n    </tr>\n    <tr>\n      <th>1991</th>\n      <td>38.0</td>\n      <td>39.089076</td>\n    </tr>\n    <tr>\n      <th>1998</th>\n      <td>46.0</td>\n      <td>45.205599</td>\n    </tr>\n    <tr>\n      <th>1995</th>\n      <td>42.0</td>\n      <td>41.625751</td>\n    </tr>\n    <tr>\n      <th>1993</th>\n      <td>40.0</td>\n      <td>39.586820</td>\n    </tr>\n    <tr>\n      <th>2003</th>\n      <td>51.0</td>\n      <td>52.012267</td>\n    </tr>\n  </tbody>\n</table>\n</div>"
     },
     "metadata": {},
     "execution_count": 150
    }
   ],
   "source": [
    "predictions_df"
   ]
  },
  {
   "source": [
    "That is a remarkable result for the amount of data. Let's have a look at what features are the most important for the *ridge regression*. These will be the countries that are better predictors for the cases in `Algeria`."
   ],
   "cell_type": "markdown",
   "metadata": {}
  },
  {
   "source": [
    "First look at the top five predictors (both positively and negatively)."
   ],
   "cell_type": "markdown",
   "metadata": {}
  },
  {
   "cell_type": "code",
   "execution_count": 151,
   "metadata": {},
   "outputs": [
    {
     "output_type": "execute_result",
     "data": {
      "text/plain": [
       "     coef_abs_value  coef_value       country\n",
       "161        0.013899    0.013899  Sierra Leone\n",
       "94         0.010280    0.010280         Kenya\n",
       "67         0.008171   -0.008171         Gabon\n",
       "53         0.006993    0.006993      Djibouti\n",
       "21         0.006862   -0.006862        Bhutan"
      ],
      "text/html": "<div>\n<style scoped>\n    .dataframe tbody tr th:only-of-type {\n        vertical-align: middle;\n    }\n\n    .dataframe tbody tr th {\n        vertical-align: top;\n    }\n\n    .dataframe thead th {\n        text-align: right;\n    }\n</style>\n<table border=\"1\" class=\"dataframe\">\n  <thead>\n    <tr style=\"text-align: right;\">\n      <th></th>\n      <th>coef_abs_value</th>\n      <th>coef_value</th>\n      <th>country</th>\n    </tr>\n  </thead>\n  <tbody>\n    <tr>\n      <th>161</th>\n      <td>0.013899</td>\n      <td>0.013899</td>\n      <td>Sierra Leone</td>\n    </tr>\n    <tr>\n      <th>94</th>\n      <td>0.010280</td>\n      <td>0.010280</td>\n      <td>Kenya</td>\n    </tr>\n    <tr>\n      <th>67</th>\n      <td>0.008171</td>\n      <td>-0.008171</td>\n      <td>Gabon</td>\n    </tr>\n    <tr>\n      <th>53</th>\n      <td>0.006993</td>\n      <td>0.006993</td>\n      <td>Djibouti</td>\n    </tr>\n    <tr>\n      <th>21</th>\n      <td>0.006862</td>\n      <td>-0.006862</td>\n      <td>Bhutan</td>\n    </tr>\n  </tbody>\n</table>\n</div>"
     },
     "metadata": {},
     "execution_count": 151
    }
   ],
   "source": [
    "coef_abs_value = [abs(c) for c in ridge_model.coef_]\n",
    "coefs_df = pd.DataFrame({\n",
    "    'coef_abs_value': coef_abs_value,\n",
    "    'coef_value': ridge_model.coef_,\n",
    "    'country': X_train.columns\n",
    "})\n",
    "coefs_df.sort_values(by=['coef_abs_value'], ascending=False).head(5)"
   ]
  },
  {
   "source": [
    "And then at the top less important ones."
   ],
   "cell_type": "markdown",
   "metadata": {}
  },
  {
   "cell_type": "code",
   "execution_count": 152,
   "metadata": {},
   "outputs": [
    {
     "output_type": "execute_result",
     "data": {
      "text/plain": [
       "    coef_abs_value  coef_value      country\n",
       "0              0.0         0.0  Afghanistan\n",
       "18             0.0         0.0       Belize\n",
       "90             0.0         0.0      Jamaica\n",
       "86             0.0         0.0         Iraq\n",
       "12             0.0         0.0      Bahamas"
      ],
      "text/html": "<div>\n<style scoped>\n    .dataframe tbody tr th:only-of-type {\n        vertical-align: middle;\n    }\n\n    .dataframe tbody tr th {\n        vertical-align: top;\n    }\n\n    .dataframe thead th {\n        text-align: right;\n    }\n</style>\n<table border=\"1\" class=\"dataframe\">\n  <thead>\n    <tr style=\"text-align: right;\">\n      <th></th>\n      <th>coef_abs_value</th>\n      <th>coef_value</th>\n      <th>country</th>\n    </tr>\n  </thead>\n  <tbody>\n    <tr>\n      <th>0</th>\n      <td>0.0</td>\n      <td>0.0</td>\n      <td>Afghanistan</td>\n    </tr>\n    <tr>\n      <th>18</th>\n      <td>0.0</td>\n      <td>0.0</td>\n      <td>Belize</td>\n    </tr>\n    <tr>\n      <th>90</th>\n      <td>0.0</td>\n      <td>0.0</td>\n      <td>Jamaica</td>\n    </tr>\n    <tr>\n      <th>86</th>\n      <td>0.0</td>\n      <td>0.0</td>\n      <td>Iraq</td>\n    </tr>\n    <tr>\n      <th>12</th>\n      <td>0.0</td>\n      <td>0.0</td>\n      <td>Bahamas</td>\n    </tr>\n  </tbody>\n</table>\n</div>"
     },
     "metadata": {},
     "execution_count": 152
    }
   ],
   "source": [
    "coefs_df.sort_values(by=['coef_abs_value'], ascending=True).head(5)"
   ]
  },
  {
   "source": [
    "Although the pattern is not perfect, we can see that the model is mostly based on countries closer to `Algeria`, and that the *ridge regression* process set to zero many countries that are farther away. "
   ],
   "cell_type": "markdown",
   "metadata": {}
  },
  {
   "source": [
    "### Finding the right amount of regularisation\n",
    "\n",
    "In the previous, we have used Python's `Ridge` defaults. In this section we will use cross validation to compare different values of the regularisation strength. The simplest way to use cross-validation is to call the `cross_val_score` helper function on the estimator and the dataset. Once we have the values for each split, we can average them. We will repeat this operation for each value of the regularisation strength we want to explore. We could do that using `sklearn`'s `GridSearchCV`, but being a simple procedure, we will write the loop ourselves here for illustration purposes."
   ],
   "cell_type": "markdown",
   "metadata": {}
  },
  {
   "cell_type": "code",
   "execution_count": 153,
   "metadata": {},
   "outputs": [
    {
     "output_type": "stream",
     "name": "stderr",
     "text": [
      "/Users/jadianes/opt/anaconda3/lib/python3.8/site-packages/sklearn/linear_model/_ridge.py:190: UserWarning: Singular matrix in solving dual problem. Using least-squares solution instead.\n  warnings.warn(\"Singular matrix in solving dual problem. Using \"\n/Users/jadianes/opt/anaconda3/lib/python3.8/site-packages/sklearn/linear_model/_ridge.py:190: UserWarning: Singular matrix in solving dual problem. Using least-squares solution instead.\n  warnings.warn(\"Singular matrix in solving dual problem. Using \"\n/Users/jadianes/opt/anaconda3/lib/python3.8/site-packages/sklearn/linear_model/_ridge.py:187: LinAlgWarning: Ill-conditioned matrix (rcond=2.41849e-18): result may not be accurate.\n  dual_coef = linalg.solve(K, y, sym_pos=True,\n/Users/jadianes/opt/anaconda3/lib/python3.8/site-packages/sklearn/linear_model/_ridge.py:190: UserWarning: Singular matrix in solving dual problem. Using least-squares solution instead.\n  warnings.warn(\"Singular matrix in solving dual problem. Using \"\n"
     ]
    }
   ],
   "source": [
    "from sklearn.model_selection import cross_val_score\n",
    "import numpy as np\n",
    "\n",
    "grid_search_results = pd.DataFrame(columns=['reg_strength','MSE'])\n",
    "for reg_strength in range(0,500):\n",
    "    ridge_model = Ridge(alpha=reg_strength).fit(X_train, y_train)\n",
    "    mse_scores = [-s for s in cross_val_score(ridge_model, X, y, cv=3, scoring='neg_mean_squared_error')]\n",
    "    average_mse = np.array(mse_scores).mean()\n",
    "    grid_search_results.loc[reg_strength] = [reg_strength, average_mse]"
   ]
  },
  {
   "source": [
    "We can now visualise the results. We can see how the model MSE value has a minimum at `134` after which it starts increasing."
   ],
   "cell_type": "markdown",
   "metadata": {}
  },
  {
   "cell_type": "code",
   "execution_count": 157,
   "metadata": {},
   "outputs": [
    {
     "output_type": "display_data",
     "data": {
      "text/plain": "<Figure size 432x288 with 1 Axes>",
      "image/svg+xml": "<?xml version=\"1.0\" encoding=\"utf-8\" standalone=\"no\"?>\n<!DOCTYPE svg PUBLIC \"-//W3C//DTD SVG 1.1//EN\"\n  \"http://www.w3.org/Graphics/SVG/1.1/DTD/svg11.dtd\">\n<!-- Created with matplotlib (https://matplotlib.org/) -->\n<svg height=\"270.451641pt\" version=\"1.1\" viewBox=\"0 0 379.791406 270.451641\" width=\"379.791406pt\" xmlns=\"http://www.w3.org/2000/svg\" xmlns:xlink=\"http://www.w3.org/1999/xlink\">\n <defs>\n  <style type=\"text/css\">\n*{stroke-linecap:butt;stroke-linejoin:round;}\n  </style>\n </defs>\n <g id=\"figure_1\">\n  <g id=\"patch_1\">\n   <path d=\"M 0 270.451641 \nL 379.791406 270.451641 \nL 379.791406 0 \nL 0 0 \nz\n\" style=\"fill:#ffffff;\"/>\n  </g>\n  <g id=\"axes_1\">\n   <g id=\"patch_2\">\n    <path d=\"M 37.791406 228.576797 \nL 372.591406 228.576797 \nL 372.591406 11.136797 \nL 37.791406 11.136797 \nz\n\" style=\"fill:#eaeaf2;\"/>\n   </g>\n   <g id=\"matplotlib.axis_1\">\n    <g id=\"xtick_1\">\n     <g id=\"line2d_1\">\n      <path clip-path=\"url(#p1a016e9567)\" d=\"M 53.009588 228.576797 \nL 53.009588 11.136797 \n\" style=\"fill:none;stroke:#ffffff;stroke-linecap:round;\"/>\n     </g>\n     <g id=\"text_1\">\n      <!-- 0 -->\n      <defs>\n       <path d=\"M 4.15625 35.296875 \nQ 4.15625 48 6.765625 55.734375 \nQ 9.375 63.484375 14.515625 67.671875 \nQ 19.671875 71.875 27.484375 71.875 \nQ 33.25 71.875 37.59375 69.546875 \nQ 41.9375 67.234375 44.765625 62.859375 \nQ 47.609375 58.5 49.21875 52.21875 \nQ 50.828125 45.953125 50.828125 35.296875 \nQ 50.828125 22.703125 48.234375 14.96875 \nQ 45.65625 7.234375 40.5 3 \nQ 35.359375 -1.21875 27.484375 -1.21875 \nQ 17.140625 -1.21875 11.234375 6.203125 \nQ 4.15625 15.140625 4.15625 35.296875 \nz\nM 13.1875 35.296875 \nQ 13.1875 17.671875 17.3125 11.828125 \nQ 21.4375 6 27.484375 6 \nQ 33.546875 6 37.671875 11.859375 \nQ 41.796875 17.71875 41.796875 35.296875 \nQ 41.796875 52.984375 37.671875 58.78125 \nQ 33.546875 64.59375 27.390625 64.59375 \nQ 21.34375 64.59375 17.71875 59.46875 \nQ 13.1875 52.9375 13.1875 35.296875 \nz\n\" id=\"ArialMT-48\"/>\n      </defs>\n      <g style=\"fill:#262626;\" transform=\"translate(49.951072 245.950391)scale(0.11 -0.11)\">\n       <use xlink:href=\"#ArialMT-48\"/>\n      </g>\n     </g>\n    </g>\n    <g id=\"xtick_2\">\n     <g id=\"line2d_2\">\n      <path clip-path=\"url(#p1a016e9567)\" d=\"M 114.004305 228.576797 \nL 114.004305 11.136797 \n\" style=\"fill:none;stroke:#ffffff;stroke-linecap:round;\"/>\n     </g>\n     <g id=\"text_2\">\n      <!-- 100 -->\n      <defs>\n       <path d=\"M 37.25 0 \nL 28.46875 0 \nL 28.46875 56 \nQ 25.296875 52.984375 20.140625 49.953125 \nQ 14.984375 46.921875 10.890625 45.40625 \nL 10.890625 53.90625 \nQ 18.265625 57.375 23.78125 62.296875 \nQ 29.296875 67.234375 31.59375 71.875 \nL 37.25 71.875 \nz\n\" id=\"ArialMT-49\"/>\n      </defs>\n      <g style=\"fill:#262626;\" transform=\"translate(104.828758 245.950391)scale(0.11 -0.11)\">\n       <use xlink:href=\"#ArialMT-49\"/>\n       <use x=\"55.615234\" xlink:href=\"#ArialMT-48\"/>\n       <use x=\"111.230469\" xlink:href=\"#ArialMT-48\"/>\n      </g>\n     </g>\n    </g>\n    <g id=\"xtick_3\">\n     <g id=\"line2d_3\">\n      <path clip-path=\"url(#p1a016e9567)\" d=\"M 174.999021 228.576797 \nL 174.999021 11.136797 \n\" style=\"fill:none;stroke:#ffffff;stroke-linecap:round;\"/>\n     </g>\n     <g id=\"text_3\">\n      <!-- 200 -->\n      <defs>\n       <path d=\"M 50.34375 8.453125 \nL 50.34375 0 \nL 3.03125 0 \nQ 2.9375 3.171875 4.046875 6.109375 \nQ 5.859375 10.9375 9.828125 15.625 \nQ 13.8125 20.3125 21.34375 26.46875 \nQ 33.015625 36.03125 37.109375 41.625 \nQ 41.21875 47.21875 41.21875 52.203125 \nQ 41.21875 57.421875 37.46875 61 \nQ 33.734375 64.59375 27.734375 64.59375 \nQ 21.390625 64.59375 17.578125 60.78125 \nQ 13.765625 56.984375 13.71875 50.25 \nL 4.6875 51.171875 \nQ 5.609375 61.28125 11.65625 66.578125 \nQ 17.71875 71.875 27.9375 71.875 \nQ 38.234375 71.875 44.234375 66.15625 \nQ 50.25 60.453125 50.25 52 \nQ 50.25 47.703125 48.484375 43.546875 \nQ 46.734375 39.40625 42.65625 34.8125 \nQ 38.578125 30.21875 29.109375 22.21875 \nQ 21.1875 15.578125 18.9375 13.203125 \nQ 16.703125 10.84375 15.234375 8.453125 \nz\n\" id=\"ArialMT-50\"/>\n      </defs>\n      <g style=\"fill:#262626;\" transform=\"translate(165.823475 245.950391)scale(0.11 -0.11)\">\n       <use xlink:href=\"#ArialMT-50\"/>\n       <use x=\"55.615234\" xlink:href=\"#ArialMT-48\"/>\n       <use x=\"111.230469\" xlink:href=\"#ArialMT-48\"/>\n      </g>\n     </g>\n    </g>\n    <g id=\"xtick_4\">\n     <g id=\"line2d_4\">\n      <path clip-path=\"url(#p1a016e9567)\" d=\"M 235.993738 228.576797 \nL 235.993738 11.136797 \n\" style=\"fill:none;stroke:#ffffff;stroke-linecap:round;\"/>\n     </g>\n     <g id=\"text_4\">\n      <!-- 300 -->\n      <defs>\n       <path d=\"M 4.203125 18.890625 \nL 12.984375 20.0625 \nQ 14.5 12.59375 18.140625 9.296875 \nQ 21.78125 6 27 6 \nQ 33.203125 6 37.46875 10.296875 \nQ 41.75 14.59375 41.75 20.953125 \nQ 41.75 27 37.796875 30.921875 \nQ 33.84375 34.859375 27.734375 34.859375 \nQ 25.25 34.859375 21.53125 33.890625 \nL 22.515625 41.609375 \nQ 23.390625 41.5 23.921875 41.5 \nQ 29.546875 41.5 34.03125 44.421875 \nQ 38.53125 47.359375 38.53125 53.46875 \nQ 38.53125 58.296875 35.25 61.46875 \nQ 31.984375 64.65625 26.8125 64.65625 \nQ 21.6875 64.65625 18.265625 61.421875 \nQ 14.84375 58.203125 13.875 51.765625 \nL 5.078125 53.328125 \nQ 6.6875 62.15625 12.390625 67.015625 \nQ 18.109375 71.875 26.609375 71.875 \nQ 32.46875 71.875 37.390625 69.359375 \nQ 42.328125 66.84375 44.9375 62.5 \nQ 47.5625 58.15625 47.5625 53.265625 \nQ 47.5625 48.640625 45.0625 44.828125 \nQ 42.578125 41.015625 37.703125 38.765625 \nQ 44.046875 37.3125 47.5625 32.6875 \nQ 51.078125 28.078125 51.078125 21.140625 \nQ 51.078125 11.765625 44.234375 5.25 \nQ 37.40625 -1.265625 26.953125 -1.265625 \nQ 17.53125 -1.265625 11.296875 4.34375 \nQ 5.078125 9.96875 4.203125 18.890625 \nz\n\" id=\"ArialMT-51\"/>\n      </defs>\n      <g style=\"fill:#262626;\" transform=\"translate(226.818191 245.950391)scale(0.11 -0.11)\">\n       <use xlink:href=\"#ArialMT-51\"/>\n       <use x=\"55.615234\" xlink:href=\"#ArialMT-48\"/>\n       <use x=\"111.230469\" xlink:href=\"#ArialMT-48\"/>\n      </g>\n     </g>\n    </g>\n    <g id=\"xtick_5\">\n     <g id=\"line2d_5\">\n      <path clip-path=\"url(#p1a016e9567)\" d=\"M 296.988455 228.576797 \nL 296.988455 11.136797 \n\" style=\"fill:none;stroke:#ffffff;stroke-linecap:round;\"/>\n     </g>\n     <g id=\"text_5\">\n      <!-- 400 -->\n      <defs>\n       <path d=\"M 32.328125 0 \nL 32.328125 17.140625 \nL 1.265625 17.140625 \nL 1.265625 25.203125 \nL 33.9375 71.578125 \nL 41.109375 71.578125 \nL 41.109375 25.203125 \nL 50.78125 25.203125 \nL 50.78125 17.140625 \nL 41.109375 17.140625 \nL 41.109375 0 \nz\nM 32.328125 25.203125 \nL 32.328125 57.46875 \nL 9.90625 25.203125 \nz\n\" id=\"ArialMT-52\"/>\n      </defs>\n      <g style=\"fill:#262626;\" transform=\"translate(287.812908 245.950391)scale(0.11 -0.11)\">\n       <use xlink:href=\"#ArialMT-52\"/>\n       <use x=\"55.615234\" xlink:href=\"#ArialMT-48\"/>\n       <use x=\"111.230469\" xlink:href=\"#ArialMT-48\"/>\n      </g>\n     </g>\n    </g>\n    <g id=\"xtick_6\">\n     <g id=\"line2d_6\">\n      <path clip-path=\"url(#p1a016e9567)\" d=\"M 357.983172 228.576797 \nL 357.983172 11.136797 \n\" style=\"fill:none;stroke:#ffffff;stroke-linecap:round;\"/>\n     </g>\n     <g id=\"text_6\">\n      <!-- 500 -->\n      <defs>\n       <path d=\"M 4.15625 18.75 \nL 13.375 19.53125 \nQ 14.40625 12.796875 18.140625 9.390625 \nQ 21.875 6 27.15625 6 \nQ 33.5 6 37.890625 10.78125 \nQ 42.28125 15.578125 42.28125 23.484375 \nQ 42.28125 31 38.0625 35.34375 \nQ 33.84375 39.703125 27 39.703125 \nQ 22.75 39.703125 19.328125 37.765625 \nQ 15.921875 35.84375 13.96875 32.765625 \nL 5.71875 33.84375 \nL 12.640625 70.609375 \nL 48.25 70.609375 \nL 48.25 62.203125 \nL 19.671875 62.203125 \nL 15.828125 42.96875 \nQ 22.265625 47.46875 29.34375 47.46875 \nQ 38.71875 47.46875 45.15625 40.96875 \nQ 51.609375 34.46875 51.609375 24.265625 \nQ 51.609375 14.546875 45.953125 7.46875 \nQ 39.0625 -1.21875 27.15625 -1.21875 \nQ 17.390625 -1.21875 11.203125 4.25 \nQ 5.03125 9.71875 4.15625 18.75 \nz\n\" id=\"ArialMT-53\"/>\n      </defs>\n      <g style=\"fill:#262626;\" transform=\"translate(348.807625 245.950391)scale(0.11 -0.11)\">\n       <use xlink:href=\"#ArialMT-53\"/>\n       <use x=\"55.615234\" xlink:href=\"#ArialMT-48\"/>\n       <use x=\"111.230469\" xlink:href=\"#ArialMT-48\"/>\n      </g>\n     </g>\n    </g>\n    <g id=\"text_7\">\n     <!-- reg_strength -->\n     <defs>\n      <path d=\"M 6.5 0 \nL 6.5 51.859375 \nL 14.40625 51.859375 \nL 14.40625 44 \nQ 17.4375 49.515625 20 51.265625 \nQ 22.5625 53.03125 25.640625 53.03125 \nQ 30.078125 53.03125 34.671875 50.203125 \nL 31.640625 42.046875 \nQ 28.421875 43.953125 25.203125 43.953125 \nQ 22.3125 43.953125 20.015625 42.21875 \nQ 17.71875 40.484375 16.75 37.40625 \nQ 15.28125 32.71875 15.28125 27.15625 \nL 15.28125 0 \nz\n\" id=\"ArialMT-114\"/>\n      <path d=\"M 42.09375 16.703125 \nL 51.171875 15.578125 \nQ 49.03125 7.625 43.21875 3.21875 \nQ 37.40625 -1.171875 28.375 -1.171875 \nQ 17 -1.171875 10.328125 5.828125 \nQ 3.65625 12.84375 3.65625 25.484375 \nQ 3.65625 38.578125 10.390625 45.796875 \nQ 17.140625 53.03125 27.875 53.03125 \nQ 38.28125 53.03125 44.875 45.953125 \nQ 51.46875 38.875 51.46875 26.03125 \nQ 51.46875 25.25 51.421875 23.6875 \nL 12.75 23.6875 \nQ 13.234375 15.140625 17.578125 10.59375 \nQ 21.921875 6.0625 28.421875 6.0625 \nQ 33.25 6.0625 36.671875 8.59375 \nQ 40.09375 11.140625 42.09375 16.703125 \nz\nM 13.234375 30.90625 \nL 42.1875 30.90625 \nQ 41.609375 37.453125 38.875 40.71875 \nQ 34.671875 45.796875 27.984375 45.796875 \nQ 21.921875 45.796875 17.796875 41.75 \nQ 13.671875 37.703125 13.234375 30.90625 \nz\n\" id=\"ArialMT-101\"/>\n      <path d=\"M 4.984375 -4.296875 \nL 13.53125 -5.5625 \nQ 14.0625 -9.515625 16.5 -11.328125 \nQ 19.78125 -13.765625 25.4375 -13.765625 \nQ 31.546875 -13.765625 34.859375 -11.328125 \nQ 38.1875 -8.890625 39.359375 -4.5 \nQ 40.046875 -1.8125 39.984375 6.78125 \nQ 34.234375 0 25.640625 0 \nQ 14.9375 0 9.078125 7.71875 \nQ 3.21875 15.4375 3.21875 26.21875 \nQ 3.21875 33.640625 5.90625 39.90625 \nQ 8.59375 46.1875 13.6875 49.609375 \nQ 18.796875 53.03125 25.6875 53.03125 \nQ 34.859375 53.03125 40.828125 45.609375 \nL 40.828125 51.859375 \nL 48.921875 51.859375 \nL 48.921875 7.03125 \nQ 48.921875 -5.078125 46.453125 -10.125 \nQ 44 -15.1875 38.640625 -18.109375 \nQ 33.296875 -21.046875 25.484375 -21.046875 \nQ 16.21875 -21.046875 10.5 -16.875 \nQ 4.78125 -12.703125 4.984375 -4.296875 \nz\nM 12.25 26.859375 \nQ 12.25 16.65625 16.296875 11.96875 \nQ 20.359375 7.28125 26.46875 7.28125 \nQ 32.515625 7.28125 36.609375 11.9375 \nQ 40.71875 16.609375 40.71875 26.5625 \nQ 40.71875 36.078125 36.5 40.90625 \nQ 32.28125 45.75 26.3125 45.75 \nQ 20.453125 45.75 16.34375 40.984375 \nQ 12.25 36.234375 12.25 26.859375 \nz\n\" id=\"ArialMT-103\"/>\n      <path d=\"M -1.515625 -19.875 \nL -1.515625 -13.53125 \nL 56.734375 -13.53125 \nL 56.734375 -19.875 \nz\n\" id=\"ArialMT-95\"/>\n      <path d=\"M 3.078125 15.484375 \nL 11.765625 16.84375 \nQ 12.5 11.625 15.84375 8.84375 \nQ 19.1875 6.0625 25.203125 6.0625 \nQ 31.25 6.0625 34.171875 8.515625 \nQ 37.109375 10.984375 37.109375 14.3125 \nQ 37.109375 17.28125 34.515625 19 \nQ 32.71875 20.171875 25.53125 21.96875 \nQ 15.875 24.421875 12.140625 26.203125 \nQ 8.40625 27.984375 6.46875 31.125 \nQ 4.546875 34.28125 4.546875 38.09375 \nQ 4.546875 41.546875 6.125 44.5 \nQ 7.71875 47.46875 10.453125 49.421875 \nQ 12.5 50.921875 16.03125 51.96875 \nQ 19.578125 53.03125 23.640625 53.03125 \nQ 29.734375 53.03125 34.34375 51.265625 \nQ 38.96875 49.515625 41.15625 46.5 \nQ 43.359375 43.5 44.1875 38.484375 \nL 35.59375 37.3125 \nQ 35.015625 41.3125 32.203125 43.546875 \nQ 29.390625 45.796875 24.265625 45.796875 \nQ 18.21875 45.796875 15.625 43.796875 \nQ 13.03125 41.796875 13.03125 39.109375 \nQ 13.03125 37.40625 14.109375 36.03125 \nQ 15.1875 34.625 17.484375 33.6875 \nQ 18.796875 33.203125 25.25 31.453125 \nQ 34.578125 28.953125 38.25 27.359375 \nQ 41.9375 25.78125 44.03125 22.75 \nQ 46.140625 19.734375 46.140625 15.234375 \nQ 46.140625 10.84375 43.578125 6.953125 \nQ 41.015625 3.078125 36.171875 0.953125 \nQ 31.34375 -1.171875 25.25 -1.171875 \nQ 15.140625 -1.171875 9.84375 3.03125 \nQ 4.546875 7.234375 3.078125 15.484375 \nz\n\" id=\"ArialMT-115\"/>\n      <path d=\"M 25.78125 7.859375 \nL 27.046875 0.09375 \nQ 23.34375 -0.6875 20.40625 -0.6875 \nQ 15.625 -0.6875 12.984375 0.828125 \nQ 10.359375 2.34375 9.28125 4.8125 \nQ 8.203125 7.28125 8.203125 15.1875 \nL 8.203125 45.015625 \nL 1.765625 45.015625 \nL 1.765625 51.859375 \nL 8.203125 51.859375 \nL 8.203125 64.703125 \nL 16.9375 69.96875 \nL 16.9375 51.859375 \nL 25.78125 51.859375 \nL 25.78125 45.015625 \nL 16.9375 45.015625 \nL 16.9375 14.703125 \nQ 16.9375 10.9375 17.40625 9.859375 \nQ 17.875 8.796875 18.921875 8.15625 \nQ 19.96875 7.515625 21.921875 7.515625 \nQ 23.390625 7.515625 25.78125 7.859375 \nz\n\" id=\"ArialMT-116\"/>\n      <path d=\"M 6.59375 0 \nL 6.59375 51.859375 \nL 14.5 51.859375 \nL 14.5 44.484375 \nQ 20.21875 53.03125 31 53.03125 \nQ 35.6875 53.03125 39.625 51.34375 \nQ 43.5625 49.65625 45.515625 46.921875 \nQ 47.46875 44.1875 48.25 40.4375 \nQ 48.734375 37.984375 48.734375 31.890625 \nL 48.734375 0 \nL 39.9375 0 \nL 39.9375 31.546875 \nQ 39.9375 36.921875 38.90625 39.578125 \nQ 37.890625 42.234375 35.28125 43.8125 \nQ 32.671875 45.40625 29.15625 45.40625 \nQ 23.53125 45.40625 19.453125 41.84375 \nQ 15.375 38.28125 15.375 28.328125 \nL 15.375 0 \nz\n\" id=\"ArialMT-110\"/>\n      <path d=\"M 6.59375 0 \nL 6.59375 71.578125 \nL 15.375 71.578125 \nL 15.375 45.90625 \nQ 21.53125 53.03125 30.90625 53.03125 \nQ 36.671875 53.03125 40.921875 50.75 \nQ 45.171875 48.484375 47 44.484375 \nQ 48.828125 40.484375 48.828125 32.859375 \nL 48.828125 0 \nL 40.046875 0 \nL 40.046875 32.859375 \nQ 40.046875 39.453125 37.1875 42.453125 \nQ 34.328125 45.453125 29.109375 45.453125 \nQ 25.203125 45.453125 21.75 43.421875 \nQ 18.3125 41.40625 16.84375 37.9375 \nQ 15.375 34.46875 15.375 28.375 \nL 15.375 0 \nz\n\" id=\"ArialMT-104\"/>\n     </defs>\n     <g style=\"fill:#262626;\" transform=\"translate(171.506094 260.726016)scale(0.12 -0.12)\">\n      <use xlink:href=\"#ArialMT-114\"/>\n      <use x=\"33.300781\" xlink:href=\"#ArialMT-101\"/>\n      <use x=\"88.916016\" xlink:href=\"#ArialMT-103\"/>\n      <use x=\"144.53125\" xlink:href=\"#ArialMT-95\"/>\n      <use x=\"200.146484\" xlink:href=\"#ArialMT-115\"/>\n      <use x=\"250.146484\" xlink:href=\"#ArialMT-116\"/>\n      <use x=\"277.929688\" xlink:href=\"#ArialMT-114\"/>\n      <use x=\"311.230469\" xlink:href=\"#ArialMT-101\"/>\n      <use x=\"366.845703\" xlink:href=\"#ArialMT-110\"/>\n      <use x=\"422.460938\" xlink:href=\"#ArialMT-103\"/>\n      <use x=\"478.076172\" xlink:href=\"#ArialMT-116\"/>\n      <use x=\"505.859375\" xlink:href=\"#ArialMT-104\"/>\n     </g>\n    </g>\n   </g>\n   <g id=\"matplotlib.axis_2\">\n    <g id=\"ytick_1\">\n     <g id=\"line2d_7\">\n      <path clip-path=\"url(#p1a016e9567)\" d=\"M 37.791406 228.576797 \nL 372.591406 228.576797 \n\" style=\"fill:none;stroke:#ffffff;stroke-linecap:round;\"/>\n     </g>\n     <g id=\"text_8\">\n      <!-- 0 -->\n      <g style=\"fill:#262626;\" transform=\"translate(22.174375 232.513594)scale(0.11 -0.11)\">\n       <use xlink:href=\"#ArialMT-48\"/>\n      </g>\n     </g>\n    </g>\n    <g id=\"ytick_2\">\n     <g id=\"line2d_8\">\n      <path clip-path=\"url(#p1a016e9567)\" d=\"M 37.791406 201.396797 \nL 372.591406 201.396797 \n\" style=\"fill:none;stroke:#ffffff;stroke-linecap:round;\"/>\n     </g>\n     <g id=\"text_9\">\n      <!-- 1 -->\n      <g style=\"fill:#262626;\" transform=\"translate(22.174375 205.333594)scale(0.11 -0.11)\">\n       <use xlink:href=\"#ArialMT-49\"/>\n      </g>\n     </g>\n    </g>\n    <g id=\"ytick_3\">\n     <g id=\"line2d_9\">\n      <path clip-path=\"url(#p1a016e9567)\" d=\"M 37.791406 174.216797 \nL 372.591406 174.216797 \n\" style=\"fill:none;stroke:#ffffff;stroke-linecap:round;\"/>\n     </g>\n     <g id=\"text_10\">\n      <!-- 2 -->\n      <g style=\"fill:#262626;\" transform=\"translate(22.174375 178.153594)scale(0.11 -0.11)\">\n       <use xlink:href=\"#ArialMT-50\"/>\n      </g>\n     </g>\n    </g>\n    <g id=\"ytick_4\">\n     <g id=\"line2d_10\">\n      <path clip-path=\"url(#p1a016e9567)\" d=\"M 37.791406 147.036797 \nL 372.591406 147.036797 \n\" style=\"fill:none;stroke:#ffffff;stroke-linecap:round;\"/>\n     </g>\n     <g id=\"text_11\">\n      <!-- 3 -->\n      <g style=\"fill:#262626;\" transform=\"translate(22.174375 150.973594)scale(0.11 -0.11)\">\n       <use xlink:href=\"#ArialMT-51\"/>\n      </g>\n     </g>\n    </g>\n    <g id=\"ytick_5\">\n     <g id=\"line2d_11\">\n      <path clip-path=\"url(#p1a016e9567)\" d=\"M 37.791406 119.856797 \nL 372.591406 119.856797 \n\" style=\"fill:none;stroke:#ffffff;stroke-linecap:round;\"/>\n     </g>\n     <g id=\"text_12\">\n      <!-- 4 -->\n      <g style=\"fill:#262626;\" transform=\"translate(22.174375 123.793594)scale(0.11 -0.11)\">\n       <use xlink:href=\"#ArialMT-52\"/>\n      </g>\n     </g>\n    </g>\n    <g id=\"ytick_6\">\n     <g id=\"line2d_12\">\n      <path clip-path=\"url(#p1a016e9567)\" d=\"M 37.791406 92.676797 \nL 372.591406 92.676797 \n\" style=\"fill:none;stroke:#ffffff;stroke-linecap:round;\"/>\n     </g>\n     <g id=\"text_13\">\n      <!-- 5 -->\n      <g style=\"fill:#262626;\" transform=\"translate(22.174375 96.613594)scale(0.11 -0.11)\">\n       <use xlink:href=\"#ArialMT-53\"/>\n      </g>\n     </g>\n    </g>\n    <g id=\"ytick_7\">\n     <g id=\"line2d_13\">\n      <path clip-path=\"url(#p1a016e9567)\" d=\"M 37.791406 65.496797 \nL 372.591406 65.496797 \n\" style=\"fill:none;stroke:#ffffff;stroke-linecap:round;\"/>\n     </g>\n     <g id=\"text_14\">\n      <!-- 6 -->\n      <defs>\n       <path d=\"M 49.75 54.046875 \nL 41.015625 53.375 \nQ 39.84375 58.546875 37.703125 60.890625 \nQ 34.125 64.65625 28.90625 64.65625 \nQ 24.703125 64.65625 21.53125 62.3125 \nQ 17.390625 59.28125 14.984375 53.46875 \nQ 12.59375 47.65625 12.5 36.921875 \nQ 15.671875 41.75 20.265625 44.09375 \nQ 24.859375 46.4375 29.890625 46.4375 \nQ 38.671875 46.4375 44.84375 39.96875 \nQ 51.03125 33.5 51.03125 23.25 \nQ 51.03125 16.5 48.125 10.71875 \nQ 45.21875 4.9375 40.140625 1.859375 \nQ 35.0625 -1.21875 28.609375 -1.21875 \nQ 17.625 -1.21875 10.6875 6.859375 \nQ 3.765625 14.9375 3.765625 33.5 \nQ 3.765625 54.25 11.421875 63.671875 \nQ 18.109375 71.875 29.4375 71.875 \nQ 37.890625 71.875 43.28125 67.140625 \nQ 48.6875 62.40625 49.75 54.046875 \nz\nM 13.875 23.1875 \nQ 13.875 18.65625 15.796875 14.5 \nQ 17.71875 10.359375 21.1875 8.171875 \nQ 24.65625 6 28.46875 6 \nQ 34.03125 6 38.03125 10.484375 \nQ 42.046875 14.984375 42.046875 22.703125 \nQ 42.046875 30.125 38.078125 34.390625 \nQ 34.125 38.671875 28.125 38.671875 \nQ 22.171875 38.671875 18.015625 34.390625 \nQ 13.875 30.125 13.875 23.1875 \nz\n\" id=\"ArialMT-54\"/>\n      </defs>\n      <g style=\"fill:#262626;\" transform=\"translate(22.174375 69.433594)scale(0.11 -0.11)\">\n       <use xlink:href=\"#ArialMT-54\"/>\n      </g>\n     </g>\n    </g>\n    <g id=\"ytick_8\">\n     <g id=\"line2d_14\">\n      <path clip-path=\"url(#p1a016e9567)\" d=\"M 37.791406 38.316797 \nL 372.591406 38.316797 \n\" style=\"fill:none;stroke:#ffffff;stroke-linecap:round;\"/>\n     </g>\n     <g id=\"text_15\">\n      <!-- 7 -->\n      <defs>\n       <path d=\"M 4.734375 62.203125 \nL 4.734375 70.65625 \nL 51.078125 70.65625 \nL 51.078125 63.8125 \nQ 44.234375 56.546875 37.515625 44.484375 \nQ 30.8125 32.421875 27.15625 19.671875 \nQ 24.515625 10.6875 23.78125 0 \nL 14.75 0 \nQ 14.890625 8.453125 18.0625 20.40625 \nQ 21.234375 32.375 27.171875 43.484375 \nQ 33.109375 54.59375 39.796875 62.203125 \nz\n\" id=\"ArialMT-55\"/>\n      </defs>\n      <g style=\"fill:#262626;\" transform=\"translate(22.174375 42.253594)scale(0.11 -0.11)\">\n       <use xlink:href=\"#ArialMT-55\"/>\n      </g>\n     </g>\n    </g>\n    <g id=\"ytick_9\">\n     <g id=\"line2d_15\">\n      <path clip-path=\"url(#p1a016e9567)\" d=\"M 37.791406 11.136797 \nL 372.591406 11.136797 \n\" style=\"fill:none;stroke:#ffffff;stroke-linecap:round;\"/>\n     </g>\n     <g id=\"text_16\">\n      <!-- 8 -->\n      <defs>\n       <path d=\"M 17.671875 38.8125 \nQ 12.203125 40.828125 9.5625 44.53125 \nQ 6.9375 48.25 6.9375 53.421875 \nQ 6.9375 61.234375 12.546875 66.546875 \nQ 18.171875 71.875 27.484375 71.875 \nQ 36.859375 71.875 42.578125 66.421875 \nQ 48.296875 60.984375 48.296875 53.171875 \nQ 48.296875 48.1875 45.671875 44.5 \nQ 43.0625 40.828125 37.75 38.8125 \nQ 44.34375 36.671875 47.78125 31.875 \nQ 51.21875 27.09375 51.21875 20.453125 \nQ 51.21875 11.28125 44.71875 5.03125 \nQ 38.234375 -1.21875 27.640625 -1.21875 \nQ 17.046875 -1.21875 10.546875 5.046875 \nQ 4.046875 11.328125 4.046875 20.703125 \nQ 4.046875 27.6875 7.59375 32.390625 \nQ 11.140625 37.109375 17.671875 38.8125 \nz\nM 15.921875 53.71875 \nQ 15.921875 48.640625 19.1875 45.40625 \nQ 22.46875 42.1875 27.6875 42.1875 \nQ 32.765625 42.1875 36.015625 45.375 \nQ 39.265625 48.578125 39.265625 53.21875 \nQ 39.265625 58.0625 35.90625 61.359375 \nQ 32.5625 64.65625 27.59375 64.65625 \nQ 22.5625 64.65625 19.234375 61.421875 \nQ 15.921875 58.203125 15.921875 53.71875 \nz\nM 13.09375 20.65625 \nQ 13.09375 16.890625 14.875 13.375 \nQ 16.65625 9.859375 20.171875 7.921875 \nQ 23.6875 6 27.734375 6 \nQ 34.03125 6 38.125 10.046875 \nQ 42.234375 14.109375 42.234375 20.359375 \nQ 42.234375 26.703125 38.015625 30.859375 \nQ 33.796875 35.015625 27.4375 35.015625 \nQ 21.234375 35.015625 17.15625 30.90625 \nQ 13.09375 26.8125 13.09375 20.65625 \nz\n\" id=\"ArialMT-56\"/>\n      </defs>\n      <g style=\"fill:#262626;\" transform=\"translate(22.174375 15.073594)scale(0.11 -0.11)\">\n       <use xlink:href=\"#ArialMT-56\"/>\n      </g>\n     </g>\n    </g>\n    <g id=\"text_17\">\n     <!-- MSE -->\n     <defs>\n      <path d=\"M 7.421875 0 \nL 7.421875 71.578125 \nL 21.6875 71.578125 \nL 38.625 20.90625 \nQ 40.96875 13.8125 42.046875 10.296875 \nQ 43.265625 14.203125 45.84375 21.78125 \nL 62.984375 71.578125 \nL 75.734375 71.578125 \nL 75.734375 0 \nL 66.609375 0 \nL 66.609375 59.90625 \nL 45.796875 0 \nL 37.25 0 \nL 16.546875 60.9375 \nL 16.546875 0 \nz\n\" id=\"ArialMT-77\"/>\n      <path d=\"M 4.5 23 \nL 13.421875 23.78125 \nQ 14.0625 18.40625 16.375 14.96875 \nQ 18.703125 11.53125 23.578125 9.40625 \nQ 28.46875 7.28125 34.578125 7.28125 \nQ 39.984375 7.28125 44.140625 8.890625 \nQ 48.296875 10.5 50.3125 13.296875 \nQ 52.34375 16.109375 52.34375 19.4375 \nQ 52.34375 22.796875 50.390625 25.3125 \nQ 48.4375 27.828125 43.953125 29.546875 \nQ 41.0625 30.671875 31.203125 33.03125 \nQ 21.34375 35.40625 17.390625 37.5 \nQ 12.25 40.1875 9.734375 44.15625 \nQ 7.234375 48.140625 7.234375 53.078125 \nQ 7.234375 58.5 10.296875 63.203125 \nQ 13.375 67.921875 19.28125 70.359375 \nQ 25.203125 72.796875 32.421875 72.796875 \nQ 40.375 72.796875 46.453125 70.234375 \nQ 52.546875 67.671875 55.8125 62.6875 \nQ 59.078125 57.71875 59.328125 51.421875 \nL 50.25 50.734375 \nQ 49.515625 57.515625 45.28125 60.984375 \nQ 41.0625 64.453125 32.8125 64.453125 \nQ 24.21875 64.453125 20.28125 61.296875 \nQ 16.359375 58.15625 16.359375 53.71875 \nQ 16.359375 49.859375 19.140625 47.359375 \nQ 21.875 44.875 33.421875 42.265625 \nQ 44.96875 39.65625 49.265625 37.703125 \nQ 55.515625 34.8125 58.484375 30.390625 \nQ 61.46875 25.984375 61.46875 20.21875 \nQ 61.46875 14.5 58.203125 9.4375 \nQ 54.9375 4.390625 48.796875 1.578125 \nQ 42.671875 -1.21875 35.015625 -1.21875 \nQ 25.296875 -1.21875 18.71875 1.609375 \nQ 12.15625 4.4375 8.421875 10.125 \nQ 4.6875 15.828125 4.5 23 \nz\n\" id=\"ArialMT-83\"/>\n      <path d=\"M 7.90625 0 \nL 7.90625 71.578125 \nL 59.671875 71.578125 \nL 59.671875 63.140625 \nL 17.390625 63.140625 \nL 17.390625 41.21875 \nL 56.984375 41.21875 \nL 56.984375 32.8125 \nL 17.390625 32.8125 \nL 17.390625 8.453125 \nL 61.328125 8.453125 \nL 61.328125 0 \nz\n\" id=\"ArialMT-69\"/>\n     </defs>\n     <g style=\"fill:#262626;\" transform=\"translate(15.789375 132.858984)rotate(-90)scale(0.12 -0.12)\">\n      <use xlink:href=\"#ArialMT-77\"/>\n      <use x=\"83.300781\" xlink:href=\"#ArialMT-83\"/>\n      <use x=\"150\" xlink:href=\"#ArialMT-69\"/>\n     </g>\n    </g>\n   </g>\n   <g id=\"line2d_16\">\n    <path clip-path=\"url(#p1a016e9567)\" d=\"M 53.009588 58.46953 \nL 60.328954 59.518764 \nL 68.258267 60.434493 \nL 77.407475 61.259291 \nL 87.776577 61.953309 \nL 99.365573 62.489926 \nL 112.174463 62.854198 \nL 126.813195 63.044677 \nL 143.891716 63.038239 \nL 164.019972 62.800742 \nL 188.417859 62.281437 \nL 219.525165 61.382663 \nL 262.221466 59.908618 \nL 348.224017 56.659428 \nL 357.373224 56.312455 \nL 357.373224 56.312455 \n\" style=\"fill:none;stroke:#4c72b0;stroke-linecap:round;stroke-width:1.5;\"/>\n   </g>\n   <g id=\"patch_3\">\n    <path d=\"M 37.791406 228.576797 \nL 37.791406 11.136797 \n\" style=\"fill:none;stroke:#ffffff;stroke-linecap:square;stroke-linejoin:miter;stroke-width:1.25;\"/>\n   </g>\n   <g id=\"patch_4\">\n    <path d=\"M 372.591406 228.576797 \nL 372.591406 11.136797 \n\" style=\"fill:none;stroke:#ffffff;stroke-linecap:square;stroke-linejoin:miter;stroke-width:1.25;\"/>\n   </g>\n   <g id=\"patch_5\">\n    <path d=\"M 37.791406 228.576797 \nL 372.591406 228.576797 \n\" style=\"fill:none;stroke:#ffffff;stroke-linecap:square;stroke-linejoin:miter;stroke-width:1.25;\"/>\n   </g>\n   <g id=\"patch_6\">\n    <path d=\"M 37.791406 11.136797 \nL 372.591406 11.136797 \n\" style=\"fill:none;stroke:#ffffff;stroke-linecap:square;stroke-linejoin:miter;stroke-width:1.25;\"/>\n   </g>\n  </g>\n </g>\n <defs>\n  <clipPath id=\"p1a016e9567\">\n   <rect height=\"217.44\" width=\"334.8\" x=\"37.791406\" y=\"11.136797\"/>\n  </clipPath>\n </defs>\n</svg>\n",
      "image/png": "[encoded data removed]"
     },
     "metadata": {}
    }
   ],
   "source": [
    "import matplotlib.pyplot as plt\n",
    "import seaborn as sns\n",
    "sns.set()\n",
    "\n",
    "g = sns.lineplot(x='reg_strength', y='MSE', data=grid_search_results)\n",
    "g.set(ylim=(0,8));"
   ]
  },
  {
   "cell_type": "code",
   "execution_count": 158,
   "metadata": {},
   "outputs": [
    {
     "output_type": "execute_result",
     "data": {
      "text/plain": [
       "134    134.0\n",
       "Name: reg_strength, dtype: float64"
      ]
     },
     "metadata": {},
     "execution_count": 158
    }
   ],
   "source": [
    "best_reg_strength = grid_search_results.sort_values(by='MSE').head(1).reg_strength\n",
    "best_reg_strength"
   ]
  },
  {
   "source": [
    "We can now use the best value to re-train the model and predict the test set again."
   ],
   "cell_type": "markdown",
   "metadata": {}
  },
  {
   "cell_type": "code",
   "execution_count": 154,
   "metadata": {},
   "outputs": [],
   "source": [
    "best_ridge_model = Ridge(best_reg_strength).fit(X_train, y_train)\n",
    "best_y_predicted = best_ridge_model.predict(X_test)\n",
    "predictions_df ['Ridge prediction (best model)'] = best_y_predicted\n"
   ]
  },
  {
   "cell_type": "code",
   "execution_count": 155,
   "metadata": {},
   "outputs": [
    {
     "output_type": "execute_result",
     "data": {
      "text/plain": [
       "      Actual new cases  Ridge prediction  Ridge prediction (best model)\n",
       "1990              38.0         39.228734                      39.153761\n",
       "1991              38.0         39.089076                      39.060778\n",
       "1998              46.0         45.205599                      45.213222\n",
       "1995              42.0         41.625751                      41.798664\n",
       "1993              40.0         39.586820                      39.700666\n",
       "2003              51.0         52.012267                      51.919899"
      ],
      "text/html": "<div>\n<style scoped>\n    .dataframe tbody tr th:only-of-type {\n        vertical-align: middle;\n    }\n\n    .dataframe tbody tr th {\n        vertical-align: top;\n    }\n\n    .dataframe thead th {\n        text-align: right;\n    }\n</style>\n<table border=\"1\" class=\"dataframe\">\n  <thead>\n    <tr style=\"text-align: right;\">\n      <th></th>\n      <th>Actual new cases</th>\n      <th>Ridge prediction</th>\n      <th>Ridge prediction (best model)</th>\n    </tr>\n  </thead>\n  <tbody>\n    <tr>\n      <th>1990</th>\n      <td>38.0</td>\n      <td>39.228734</td>\n      <td>39.153761</td>\n    </tr>\n    <tr>\n      <th>1991</th>\n      <td>38.0</td>\n      <td>39.089076</td>\n      <td>39.060778</td>\n    </tr>\n    <tr>\n      <th>1998</th>\n      <td>46.0</td>\n      <td>45.205599</td>\n      <td>45.213222</td>\n    </tr>\n    <tr>\n      <th>1995</th>\n      <td>42.0</td>\n      <td>41.625751</td>\n      <td>41.798664</td>\n    </tr>\n    <tr>\n      <th>1993</th>\n      <td>40.0</td>\n      <td>39.586820</td>\n      <td>39.700666</td>\n    </tr>\n    <tr>\n      <th>2003</th>\n      <td>51.0</td>\n      <td>52.012267</td>\n      <td>51.919899</td>\n    </tr>\n  </tbody>\n</table>\n</div>"
     },
     "metadata": {},
     "execution_count": 155
    }
   ],
   "source": [
    "predictions_df"
   ]
  },
  {
   "source": [
    "We can see that the improvement happens also with the test set. It is not a huge, but it is there. Also there are some changes in the coefficients for the countries, where the last one has been replaced for a closer one geographically."
   ],
   "cell_type": "markdown",
   "metadata": {}
  },
  {
   "cell_type": "code",
   "execution_count": 156,
   "metadata": {},
   "outputs": [
    {
     "output_type": "execute_result",
     "data": {
      "text/plain": [
       "     coef_abs_value  coef_value       country\n",
       "161        0.012927    0.012927  Sierra Leone\n",
       "94         0.008368    0.008368         Kenya\n",
       "21         0.006653   -0.006653        Bhutan\n",
       "53         0.006641    0.006641      Djibouti\n",
       "101        0.006242    0.006242       Lesotho"
      ],
      "text/html": "<div>\n<style scoped>\n    .dataframe tbody tr th:only-of-type {\n        vertical-align: middle;\n    }\n\n    .dataframe tbody tr th {\n        vertical-align: top;\n    }\n\n    .dataframe thead th {\n        text-align: right;\n    }\n</style>\n<table border=\"1\" class=\"dataframe\">\n  <thead>\n    <tr style=\"text-align: right;\">\n      <th></th>\n      <th>coef_abs_value</th>\n      <th>coef_value</th>\n      <th>country</th>\n    </tr>\n  </thead>\n  <tbody>\n    <tr>\n      <th>161</th>\n      <td>0.012927</td>\n      <td>0.012927</td>\n      <td>Sierra Leone</td>\n    </tr>\n    <tr>\n      <th>94</th>\n      <td>0.008368</td>\n      <td>0.008368</td>\n      <td>Kenya</td>\n    </tr>\n    <tr>\n      <th>21</th>\n      <td>0.006653</td>\n      <td>-0.006653</td>\n      <td>Bhutan</td>\n    </tr>\n    <tr>\n      <th>53</th>\n      <td>0.006641</td>\n      <td>0.006641</td>\n      <td>Djibouti</td>\n    </tr>\n    <tr>\n      <th>101</th>\n      <td>0.006242</td>\n      <td>0.006242</td>\n      <td>Lesotho</td>\n    </tr>\n  </tbody>\n</table>\n</div>"
     },
     "metadata": {},
     "execution_count": 156
    }
   ],
   "source": [
    "coef_abs_value = [abs(c) for c in best_ridge_model.coef_]\n",
    "coefs_df = pd.DataFrame({\n",
    "    'coef_abs_value': coef_abs_value,\n",
    "    'coef_value': best_ridge_model.coef_,\n",
    "    'country': X_train.columns\n",
    "})\n",
    "coefs_df.sort_values(by=['coef_abs_value'], ascending=False).head(5)"
   ]
  },
  {
   "source": [
    "## The *Lasso* "
   ],
   "cell_type": "markdown",
   "metadata": {}
  },
  {
   "source": [
    "The *lasso* (least absolute shrinkage and selection operator) method is similar to ridge regression, in which it penalises the cost function. However, instead of using the $L_2$ norm, it uses the $L_1$ norm. The optimisation problem now becomes:\n",
    "\n",
    "$$\n",
    "\\vec{\\hat{\\beta}} = \\underset{\\vec{\\beta}, \\sum_{j} |\\vec{\\beta_j}| \\le \\tau}{argmin} (Y - X\\vec{\\beta})^T(Y-X \\vec{\\beta})\n",
    "$$\n",
    "\n",
    "that is, the new task is to find $\\vec{\\beta}$ that minimises the residual sum of squares subject to its $L_1$ also minimising it. To find the values of $\\vec{\\beta}$, we can put that into a *Lagrange multiplier* term:\n",
    "\n",
    "$$\n",
    "\\vec{\\hat{\\beta}} = \\underset{\\vec{\\beta}}{argmin} (Y - X\\vec{\\beta})^T(Y-X \\vec{\\beta}) + \\lambda \\sum_{j} |\\vec{\\beta_j}|\n",
    "$$\n",
    "\n",
    "In this case, we don't have an analytic solution, and we need to use a numerical one (implemented by Python's `sklearn`)."
   ],
   "cell_type": "markdown",
   "metadata": {}
  },
  {
   "source": [
    "### The *Lasso* in Python"
   ],
   "cell_type": "markdown",
   "metadata": {}
  },
  {
   "source": [
    "We will go straight into using grid search cross validation to find the optimal regulsarisation amount."
   ],
   "cell_type": "markdown",
   "metadata": {}
  },
  {
   "cell_type": "code",
   "execution_count": 135,
   "metadata": {},
   "outputs": [
    {
     "output_type": "stream",
     "name": "stderr",
     "text": [
      "/Users/jadianes/opt/anaconda3/lib/python3.8/site-packages/sklearn/model_selection/_validation.py:531: UserWarning: With alpha=0, this algorithm does not converge well. You are advised to use the LinearRegression estimator\n  estimator.fit(X_train, y_train, **fit_params)\n/Users/jadianes/opt/anaconda3/lib/python3.8/site-packages/sklearn/linear_model/_coordinate_descent.py:529: UserWarning: Coordinate descent with no regularization may lead to unexpected results and is discouraged.\n  model = cd_fast.enet_coordinate_descent(\n/Users/jadianes/opt/anaconda3/lib/python3.8/site-packages/sklearn/model_selection/_validation.py:531: UserWarning: With alpha=0, this algorithm does not converge well. You are advised to use the LinearRegression estimator\n  estimator.fit(X_train, y_train, **fit_params)\n/Users/jadianes/opt/anaconda3/lib/python3.8/site-packages/sklearn/linear_model/_coordinate_descent.py:529: UserWarning: Coordinate descent with no regularization may lead to unexpected results and is discouraged.\n  model = cd_fast.enet_coordinate_descent(\n/Users/jadianes/opt/anaconda3/lib/python3.8/site-packages/sklearn/model_selection/_validation.py:531: UserWarning: With alpha=0, this algorithm does not converge well. You are advised to use the LinearRegression estimator\n  estimator.fit(X_train, y_train, **fit_params)\n/Users/jadianes/opt/anaconda3/lib/python3.8/site-packages/sklearn/linear_model/_coordinate_descent.py:529: UserWarning: Coordinate descent with no regularization may lead to unexpected results and is discouraged.\n  model = cd_fast.enet_coordinate_descent(\n/Users/jadianes/opt/anaconda3/lib/python3.8/site-packages/sklearn/linear_model/_coordinate_descent.py:529: ConvergenceWarning: Objective did not converge. You might want to increase the number of iterations. Duality gap: 0.032331297000265186, tolerance: 0.029400000000000003\n  model = cd_fast.enet_coordinate_descent(\n/Users/jadianes/opt/anaconda3/lib/python3.8/site-packages/sklearn/linear_model/_coordinate_descent.py:529: ConvergenceWarning: Objective did not converge. You might want to increase the number of iterations. Duality gap: 0.05653215460429828, tolerance: 0.029400000000000003\n  model = cd_fast.enet_coordinate_descent(\n"
     ]
    },
    {
     "output_type": "execute_result",
     "data": {
      "text/plain": [
       "GridSearchCV(cv=3, estimator=Lasso(), param_grid={'alpha': range(0, 500)},\n",
       "             scoring='neg_mean_squared_error')"
      ]
     },
     "metadata": {},
     "execution_count": 135
    }
   ],
   "source": [
    "from sklearn.model_selection import GridSearchCV\n",
    "from sklearn.linear_model import Lasso\n",
    "\n",
    "clf = GridSearchCV(\n",
    "    estimator=Lasso(),\n",
    "    cv=3,\n",
    "    scoring='neg_mean_squared_error',\n",
    "    param_grid={'alpha':range(0,500)})\n",
    "clf.fit(X_train, y_train)\n"
   ]
  },
  {
   "cell_type": "code",
   "execution_count": 163,
   "metadata": {},
   "outputs": [],
   "source": [
    "best_lasso_model = clf.best_estimator_\n",
    "best_lasso_y_predicted = best_lasso_model.predict(X_test)\n",
    "predictions_df ['Lasso prediction (best model)'] = best_lasso_y_predicted"
   ]
  },
  {
   "cell_type": "code",
   "execution_count": 164,
   "metadata": {},
   "outputs": [
    {
     "output_type": "execute_result",
     "data": {
      "text/plain": [
       "      Actual new cases  Ridge prediction  Ridge prediction (best model)  \\\n",
       "1990              38.0         39.228734                      39.153761   \n",
       "1991              38.0         39.089076                      39.060778   \n",
       "1998              46.0         45.205599                      45.213222   \n",
       "1995              42.0         41.625751                      41.798664   \n",
       "1993              40.0         39.586820                      39.700666   \n",
       "2003              51.0         52.012267                      51.919899   \n",
       "\n",
       "      ElasticNet prediction (best model)  Lasso prediction (best model)  \n",
       "1990                           37.955345                      37.839855  \n",
       "1991                           38.496087                      38.372519  \n",
       "1998                           45.284684                      45.315481  \n",
       "1995                           41.834718                      41.842920  \n",
       "1993                           39.949414                      39.903718  \n",
       "2003                           51.765331                      51.745462  "
      ],
      "text/html": "<div>\n<style scoped>\n    .dataframe tbody tr th:only-of-type {\n        vertical-align: middle;\n    }\n\n    .dataframe tbody tr th {\n        vertical-align: top;\n    }\n\n    .dataframe thead th {\n        text-align: right;\n    }\n</style>\n<table border=\"1\" class=\"dataframe\">\n  <thead>\n    <tr style=\"text-align: right;\">\n      <th></th>\n      <th>Actual new cases</th>\n      <th>Ridge prediction</th>\n      <th>Ridge prediction (best model)</th>\n      <th>ElasticNet prediction (best model)</th>\n      <th>Lasso prediction (best model)</th>\n    </tr>\n  </thead>\n  <tbody>\n    <tr>\n      <th>1990</th>\n      <td>38.0</td>\n      <td>39.228734</td>\n      <td>39.153761</td>\n      <td>37.955345</td>\n      <td>37.839855</td>\n    </tr>\n    <tr>\n      <th>1991</th>\n      <td>38.0</td>\n      <td>39.089076</td>\n      <td>39.060778</td>\n      <td>38.496087</td>\n      <td>38.372519</td>\n    </tr>\n    <tr>\n      <th>1998</th>\n      <td>46.0</td>\n      <td>45.205599</td>\n      <td>45.213222</td>\n      <td>45.284684</td>\n      <td>45.315481</td>\n    </tr>\n    <tr>\n      <th>1995</th>\n      <td>42.0</td>\n      <td>41.625751</td>\n      <td>41.798664</td>\n      <td>41.834718</td>\n      <td>41.842920</td>\n    </tr>\n    <tr>\n      <th>1993</th>\n      <td>40.0</td>\n      <td>39.586820</td>\n      <td>39.700666</td>\n      <td>39.949414</td>\n      <td>39.903718</td>\n    </tr>\n    <tr>\n      <th>2003</th>\n      <td>51.0</td>\n      <td>52.012267</td>\n      <td>51.919899</td>\n      <td>51.765331</td>\n      <td>51.745462</td>\n    </tr>\n  </tbody>\n</table>\n</div>"
     },
     "metadata": {},
     "execution_count": 164
    }
   ],
   "source": [
    "predictions_df"
   ]
  },
  {
   "cell_type": "code",
   "execution_count": 165,
   "metadata": {},
   "outputs": [
    {
     "output_type": "execute_result",
     "data": {
      "text/plain": [
       "     coef_abs_value  coef_value           country\n",
       "161        0.041148    0.041148      Sierra Leone\n",
       "101        0.008167    0.008167           Lesotho\n",
       "123        0.002216   -0.002216             Nauru\n",
       "132        0.001237   -0.001237              Niue\n",
       "201        0.000122   -0.000122  Wallis et Futuna"
      ],
      "text/html": "<div>\n<style scoped>\n    .dataframe tbody tr th:only-of-type {\n        vertical-align: middle;\n    }\n\n    .dataframe tbody tr th {\n        vertical-align: top;\n    }\n\n    .dataframe thead th {\n        text-align: right;\n    }\n</style>\n<table border=\"1\" class=\"dataframe\">\n  <thead>\n    <tr style=\"text-align: right;\">\n      <th></th>\n      <th>coef_abs_value</th>\n      <th>coef_value</th>\n      <th>country</th>\n    </tr>\n  </thead>\n  <tbody>\n    <tr>\n      <th>161</th>\n      <td>0.041148</td>\n      <td>0.041148</td>\n      <td>Sierra Leone</td>\n    </tr>\n    <tr>\n      <th>101</th>\n      <td>0.008167</td>\n      <td>0.008167</td>\n      <td>Lesotho</td>\n    </tr>\n    <tr>\n      <th>123</th>\n      <td>0.002216</td>\n      <td>-0.002216</td>\n      <td>Nauru</td>\n    </tr>\n    <tr>\n      <th>132</th>\n      <td>0.001237</td>\n      <td>-0.001237</td>\n      <td>Niue</td>\n    </tr>\n    <tr>\n      <th>201</th>\n      <td>0.000122</td>\n      <td>-0.000122</td>\n      <td>Wallis et Futuna</td>\n    </tr>\n  </tbody>\n</table>\n</div>"
     },
     "metadata": {},
     "execution_count": 165
    }
   ],
   "source": [
    "lasso_coef_abs_value = [abs(c) for c in best_lasso_model.coef_]\n",
    "lasso_coefs_df = pd.DataFrame({\n",
    "    'coef_abs_value': lasso_coef_abs_value,\n",
    "    'coef_value': best_lasso_model.coef_,\n",
    "    'country': X_train.columns\n",
    "})\n",
    "lasso_coefs_df.sort_values(by=['coef_abs_value'], ascending=False).head(5)"
   ]
  },
  {
   "source": [
    "We can see a defining characteristic of *lasso*, and it's sparsity. The coefficient values decay faster."
   ],
   "cell_type": "markdown",
   "metadata": {}
  },
  {
   "source": [
    "## The best of both worlds: ElasticNet"
   ],
   "cell_type": "markdown",
   "metadata": {}
  },
  {
   "source": [
    "### ElasticNet in Python"
   ],
   "cell_type": "markdown",
   "metadata": {}
  },
  {
   "cell_type": "code",
   "execution_count": 166,
   "metadata": {},
   "outputs": [],
   "source": [
    "from sklearn.linear_model import ElasticNetCV\n",
    "\n",
    "best_en_model = ElasticNetCV(l1_ratio=[.1, .5, .7, .9, .95, .99, 1], cv=3).fit(X_train, y_train)\n",
    "\n",
    "best_en_y_predicted = best_en_model.predict(X_test)\n",
    "predictions_df['ElasticNet prediction (best model)'] = best_en_y_predicted\n"
   ]
  },
  {
   "cell_type": "code",
   "execution_count": 167,
   "metadata": {},
   "outputs": [
    {
     "output_type": "execute_result",
     "data": {
      "text/plain": [
       "      Actual new cases  Ridge prediction  Ridge prediction (best model)  \\\n",
       "1990              38.0         39.228734                      39.153761   \n",
       "1991              38.0         39.089076                      39.060778   \n",
       "1998              46.0         45.205599                      45.213222   \n",
       "1995              42.0         41.625751                      41.798664   \n",
       "1993              40.0         39.586820                      39.700666   \n",
       "2003              51.0         52.012267                      51.919899   \n",
       "\n",
       "      ElasticNet prediction (best model)  Lasso prediction (best model)  \n",
       "1990                           37.955345                      37.839855  \n",
       "1991                           38.496087                      38.372519  \n",
       "1998                           45.284684                      45.315481  \n",
       "1995                           41.834718                      41.842920  \n",
       "1993                           39.949414                      39.903718  \n",
       "2003                           51.765331                      51.745462  "
      ],
      "text/html": "<div>\n<style scoped>\n    .dataframe tbody tr th:only-of-type {\n        vertical-align: middle;\n    }\n\n    .dataframe tbody tr th {\n        vertical-align: top;\n    }\n\n    .dataframe thead th {\n        text-align: right;\n    }\n</style>\n<table border=\"1\" class=\"dataframe\">\n  <thead>\n    <tr style=\"text-align: right;\">\n      <th></th>\n      <th>Actual new cases</th>\n      <th>Ridge prediction</th>\n      <th>Ridge prediction (best model)</th>\n      <th>ElasticNet prediction (best model)</th>\n      <th>Lasso prediction (best model)</th>\n    </tr>\n  </thead>\n  <tbody>\n    <tr>\n      <th>1990</th>\n      <td>38.0</td>\n      <td>39.228734</td>\n      <td>39.153761</td>\n      <td>37.955345</td>\n      <td>37.839855</td>\n    </tr>\n    <tr>\n      <th>1991</th>\n      <td>38.0</td>\n      <td>39.089076</td>\n      <td>39.060778</td>\n      <td>38.496087</td>\n      <td>38.372519</td>\n    </tr>\n    <tr>\n      <th>1998</th>\n      <td>46.0</td>\n      <td>45.205599</td>\n      <td>45.213222</td>\n      <td>45.284684</td>\n      <td>45.315481</td>\n    </tr>\n    <tr>\n      <th>1995</th>\n      <td>42.0</td>\n      <td>41.625751</td>\n      <td>41.798664</td>\n      <td>41.834718</td>\n      <td>41.842920</td>\n    </tr>\n    <tr>\n      <th>1993</th>\n      <td>40.0</td>\n      <td>39.586820</td>\n      <td>39.700666</td>\n      <td>39.949414</td>\n      <td>39.903718</td>\n    </tr>\n    <tr>\n      <th>2003</th>\n      <td>51.0</td>\n      <td>52.012267</td>\n      <td>51.919899</td>\n      <td>51.765331</td>\n      <td>51.745462</td>\n    </tr>\n  </tbody>\n</table>\n</div>"
     },
     "metadata": {},
     "execution_count": 167
    }
   ],
   "source": [
    "predictions_df"
   ]
  },
  {
   "source": [
    "## References\n",
    "\n",
    "1. Bishop. *Pattern recognition and machine learning*. 2006\n",
    "2. Hastie. *The Elements of Statistical Learning*. 2nd Ed. "
   ],
   "cell_type": "markdown",
   "metadata": {}
  },
  {
   "source": [],
   "cell_type": "markdown",
   "metadata": {}
  }
 ]
}